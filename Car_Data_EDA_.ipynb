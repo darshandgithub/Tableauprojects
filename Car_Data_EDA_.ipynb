{
  "nbformat": 4,
  "nbformat_minor": 0,
  "metadata": {
    "colab": {
      "provenance": [],
      "authorship_tag": "ABX9TyNSGXS3yvvstU7jCl1BFE/F",
      "include_colab_link": true
    },
    "kernelspec": {
      "name": "python3",
      "display_name": "Python 3"
    },
    "language_info": {
      "name": "python"
    }
  },
  "cells": [
    {
      "cell_type": "markdown",
      "metadata": {
        "id": "view-in-github",
        "colab_type": "text"
      },
      "source": [
        "<a href=\"https://colab.research.google.com/github/darshandgithub/darshantableau/blob/main/Car_Data_EDA_.ipynb\" target=\"_parent\"><img src=\"https://colab.research.google.com/assets/colab-badge.svg\" alt=\"Open In Colab\"/></a>"
      ]
    },
    {
      "cell_type": "markdown",
      "source": [
        "# Exploratory Data Analysis Case Study - Australia Car Market Data\n",
        "\n",
        "\n",
        "![](https://storage.googleapis.com/kaggle-datasets-images/5634382/9304846/1330638fa3dbc5f758e7ce98a10628a2/dataset-cover.png?t=2024-09-03-01-52-08)\n",
        "\n",
        "\n",
        "Exploratory Data Analysis (EDA) is the process of exploring, investigating and gathering insights from data using statistical measures and visualizations. The objective of EDA is to develop and understanding of data, by uncovering trends, relationships and patterns.\n",
        "\n",
        "EDA is both a science and an art. On the one hand it requires the knowledge of statistics, visualization techniques and data analysis tools like Numpy, Pandas, Seaborn etc. On the other hand, it requires asking interesting questions to guide the investigation and interpreting numbers & figures to generate useful insights.\n",
        "\n",
        "\n"
      ],
      "metadata": {
        "id": "0DohStG6l_f1"
      }
    },
    {
      "cell_type": "markdown",
      "source": [
        "The following steps are covered in this prject:\n",
        "\n",
        "- Downloading a dataset from an online source\n",
        "- Data preparation and cleaning with Pandas\n",
        "- Open-ended exploratory analysis and visualization\n",
        "- Asking and answering interesting questions\n",
        "- Summarizing inferences and drawing conclusions"
      ],
      "metadata": {
        "id": "Z2Zq4FcUnVtJ"
      }
    },
    {
      "cell_type": "markdown",
      "source": [
        "## Introduction\n",
        "\n",
        "The Australia Car Market dataset from Kaggle provides detailed information on car listings, including attributes such as car models, production year, prices, mileage, engine type, and car brand. This dataset is useful for analyzing car market trends in Australia, price comparison across brands, the effect of mileage or production year on prices, and other features that may influence market values. The dataset can support various analyses such as car price forecasting, feature correlation, and brand popularity comparisons.. You can find the official analysis of the data here: https://www.kaggle.com/datasets/lainguyn123/australia-car-market-data\n",
        "\n",
        "There are several options for getting a dataset into Jupyter:\n",
        "\n",
        "- Download the CSV manually and upload it via Jupyter's GUI\n",
        "- Use the `opendatasets` library to download datasets from Kaggle datasets and Google Drive URLs\n",
        "\n",
        "\n",
        "We'll use the `opendatasets` helper library to download files from the above URL."
      ],
      "metadata": {
        "id": "CAflALBcoGmU"
      }
    },
    {
      "cell_type": "code",
      "source": [
        "!pip install opendatasets"
      ],
      "metadata": {
        "colab": {
          "base_uri": "https://localhost:8080/"
        },
        "id": "jpITqo-GEmX0",
        "outputId": "8f89a793-99a2-41e4-ebdc-a312cd44f197"
      },
      "execution_count": null,
      "outputs": [
        {
          "output_type": "stream",
          "name": "stdout",
          "text": [
            "Collecting opendatasets\n",
            "  Downloading opendatasets-0.1.22-py3-none-any.whl.metadata (9.2 kB)\n",
            "Requirement already satisfied: tqdm in /usr/local/lib/python3.10/dist-packages (from opendatasets) (4.66.5)\n",
            "Requirement already satisfied: kaggle in /usr/local/lib/python3.10/dist-packages (from opendatasets) (1.6.17)\n",
            "Requirement already satisfied: click in /usr/local/lib/python3.10/dist-packages (from opendatasets) (8.1.7)\n",
            "Requirement already satisfied: six>=1.10 in /usr/local/lib/python3.10/dist-packages (from kaggle->opendatasets) (1.16.0)\n",
            "Requirement already satisfied: certifi>=2023.7.22 in /usr/local/lib/python3.10/dist-packages (from kaggle->opendatasets) (2024.8.30)\n",
            "Requirement already satisfied: python-dateutil in /usr/local/lib/python3.10/dist-packages (from kaggle->opendatasets) (2.8.2)\n",
            "Requirement already satisfied: requests in /usr/local/lib/python3.10/dist-packages (from kaggle->opendatasets) (2.32.3)\n",
            "Requirement already satisfied: python-slugify in /usr/local/lib/python3.10/dist-packages (from kaggle->opendatasets) (8.0.4)\n",
            "Requirement already satisfied: urllib3 in /usr/local/lib/python3.10/dist-packages (from kaggle->opendatasets) (2.0.7)\n",
            "Requirement already satisfied: bleach in /usr/local/lib/python3.10/dist-packages (from kaggle->opendatasets) (6.1.0)\n",
            "Requirement already satisfied: webencodings in /usr/local/lib/python3.10/dist-packages (from bleach->kaggle->opendatasets) (0.5.1)\n",
            "Requirement already satisfied: text-unidecode>=1.3 in /usr/local/lib/python3.10/dist-packages (from python-slugify->kaggle->opendatasets) (1.3)\n",
            "Requirement already satisfied: charset-normalizer<4,>=2 in /usr/local/lib/python3.10/dist-packages (from requests->kaggle->opendatasets) (3.3.2)\n",
            "Requirement already satisfied: idna<4,>=2.5 in /usr/local/lib/python3.10/dist-packages (from requests->kaggle->opendatasets) (3.10)\n",
            "Downloading opendatasets-0.1.22-py3-none-any.whl (15 kB)\n",
            "Installing collected packages: opendatasets\n",
            "Successfully installed opendatasets-0.1.22\n"
          ]
        }
      ]
    },
    {
      "cell_type": "code",
      "execution_count": null,
      "metadata": {
        "id": "QNZ0KsAuEBd4"
      },
      "outputs": [],
      "source": [
        "url='https://www.kaggle.com/datasets/lainguyn123/australia-car-market-data'"
      ]
    },
    {
      "cell_type": "code",
      "source": [
        "url"
      ],
      "metadata": {
        "id": "xOKNLf5ZEaig",
        "colab": {
          "base_uri": "https://localhost:8080/",
          "height": 35
        },
        "outputId": "2ab0b6dd-9324-454d-f03f-f313795ee06e"
      },
      "execution_count": null,
      "outputs": [
        {
          "output_type": "execute_result",
          "data": {
            "text/plain": [
              "'https://www.kaggle.com/datasets/lainguyn123/australia-car-market-data'"
            ],
            "application/vnd.google.colaboratory.intrinsic+json": {
              "type": "string"
            }
          },
          "metadata": {},
          "execution_count": 3
        }
      ]
    },
    {
      "cell_type": "code",
      "source": [
        "import opendatasets as od"
      ],
      "metadata": {
        "id": "ViRysapEE12k"
      },
      "execution_count": null,
      "outputs": []
    },
    {
      "cell_type": "code",
      "source": [
        "od.download(url)"
      ],
      "metadata": {
        "colab": {
          "base_uri": "https://localhost:8080/"
        },
        "id": "Slx7qMswE-B6",
        "outputId": "99b7947d-de6e-4777-e882-56483ad9bc32"
      },
      "execution_count": null,
      "outputs": [
        {
          "output_type": "stream",
          "name": "stdout",
          "text": [
            "Please provide your Kaggle credentials to download this dataset. Learn more: http://bit.ly/kaggle-creds\n",
            "Your Kaggle username: Darshan D\n",
            "Your Kaggle Key: ··········\n",
            "Dataset URL: https://www.kaggle.com/datasets/lainguyn123/australia-car-market-data\n",
            "Downloading australia-car-market-data.zip to ./australia-car-market-data\n"
          ]
        },
        {
          "output_type": "stream",
          "name": "stderr",
          "text": [
            "100%|██████████| 601k/601k [00:00<00:00, 44.3MB/s]"
          ]
        },
        {
          "output_type": "stream",
          "name": "stdout",
          "text": [
            "\n"
          ]
        },
        {
          "output_type": "stream",
          "name": "stderr",
          "text": [
            "\n"
          ]
        }
      ]
    },
    {
      "cell_type": "markdown",
      "source": [],
      "metadata": {
        "id": "QpEQITUBqdLw"
      }
    },
    {
      "cell_type": "markdown",
      "source": [
        " Importing the required libraries"
      ],
      "metadata": {
        "id": "jZmxkl26qF_1"
      }
    },
    {
      "cell_type": "code",
      "source": [
        "import pandas as pd\n",
        "import numpy as np\n",
        "import matplotlib.pyplot as plt\n",
        "import seaborn as sns\n",
        "import plotly.express as px"
      ],
      "metadata": {
        "id": "rKntXXEnFBM9"
      },
      "execution_count": null,
      "outputs": []
    },
    {
      "cell_type": "code",
      "source": [
        "pd.set_option('display.max_columns', None)"
      ],
      "metadata": {
        "id": "Sa83w8jjFaRO"
      },
      "execution_count": null,
      "outputs": []
    },
    {
      "cell_type": "code",
      "source": [
        "car = pd.read_csv('/content/australia-car-market-data/cars_info.csv')"
      ],
      "metadata": {
        "id": "MbBMg72nFqFI"
      },
      "execution_count": null,
      "outputs": []
    },
    {
      "cell_type": "code",
      "source": [
        "car"
      ],
      "metadata": {
        "colab": {
          "base_uri": "https://localhost:8080/",
          "height": 1000
        },
        "id": "h8AIi9lSFxVJ",
        "outputId": "76219534-0758-4769-837c-92978f280443"
      },
      "execution_count": null,
      "outputs": [
        {
          "output_type": "execute_result",
          "data": {
            "text/plain": [
              "             ID                                               Name   Price  \\\n",
              "0      11530130                  2010 Toyota Rukus Build 2 AZE151R    9999   \n",
              "1      12190570  2021 Mercedes-Benz V 250 D Avantgarde MWB 447 ...  117990   \n",
              "2      12321855  2021 Mercedes-Benz Valente 116 CDI MWB RWD 447...   79990   \n",
              "3      12346971         2010 Mercedes-Benz E250 CDI Avantgarde 207   34990   \n",
              "4      12363884                       2016 Holden Cruze CD JH MY16   15990   \n",
              "...         ...                                                ...     ...   \n",
              "17043  12852453                 2003 Holden Commodore Executive VY    4499   \n",
              "17044  12852460                        2008 Toyota Yaris YR NCP90R    4999   \n",
              "17045  12852462               2002 Holden Jackaroo SE LWB (4X4) U8    7999   \n",
              "17046  12852463               2016 Hyundai I30 Active GD4 Series 2   14000   \n",
              "17047  12852464              2005 Toyota RAV4 Cruiser (4X4) ACA23R    5999   \n",
              "\n",
              "               Brand      Model               Variant        Series  Year  \\\n",
              "0             Toyota      Rukus               Build 2       AZE151R  2010   \n",
              "1      Mercedes-Benz          V  250 D Avantgarde MWB      447 MY21  2021   \n",
              "2      Mercedes-Benz    Valente       116 CDI MWB RWD      447 MY21  2021   \n",
              "3      Mercedes-Benz       E250        CDI Avantgarde           207  2010   \n",
              "4             Holden      Cruze                    CD       JH MY16  2016   \n",
              "...              ...        ...                   ...           ...   ...   \n",
              "17043         Holden  Commodore             Executive            VY  2003   \n",
              "17044         Toyota      Yaris                    YR        NCP90R  2008   \n",
              "17045         Holden   Jackaroo          SE LWB (4X4)            U8  2002   \n",
              "17046        Hyundai        I30                Active  GD4 Series 2  2016   \n",
              "17047         Toyota       RAV4         Cruiser (4X4)        ACA23R  2005   \n",
              "\n",
              "       Kilometers         Type    Gearbox             Fuel         Status  \\\n",
              "0          263000        Wagon  Automatic  Unleaded Petrol           Used   \n",
              "1              19        Wagon  Automatic           Diesel   New In Stock   \n",
              "2              24        Wagon  Automatic           Diesel   New In Stock   \n",
              "3          120579    Cabriolet  Automatic           Diesel           Used   \n",
              "4           72506  Sportswagon  Automatic  Unleaded Petrol           Used   \n",
              "...           ...          ...        ...              ...            ...   \n",
              "17043      230441        Sedan  Automatic  Unleaded Petrol           Used   \n",
              "17044      237113    Hatchback     Manual  Unleaded Petrol           Used   \n",
              "17045      238768        Wagon  Automatic           Diesel           Used   \n",
              "17046       49800    Hatchback     Manual  Unleaded Petrol           Used   \n",
              "17047      255809        Wagon     Manual  Unleaded Petrol           Used   \n",
              "\n",
              "         CC   Color  Seating Capacity  \n",
              "0      2362    Grey                 5  \n",
              "1      2143   Black                 7  \n",
              "2      2143   Black                 8  \n",
              "3      2143   Black                 4  \n",
              "4      1796   White                 5  \n",
              "...     ...     ...               ...  \n",
              "17043  3791    Gold                 5  \n",
              "17044  1299  Yellow                 5  \n",
              "17045  2999    Gold                 7  \n",
              "17046  1797    Blue                 5  \n",
              "17047  2362    Grey                 5  \n",
              "\n",
              "[17048 rows x 16 columns]"
            ],
            "text/html": [
              "\n",
              "  <div id=\"df-17d92182-9393-47ad-83cd-c313f234f2b4\" class=\"colab-df-container\">\n",
              "    <div>\n",
              "<style scoped>\n",
              "    .dataframe tbody tr th:only-of-type {\n",
              "        vertical-align: middle;\n",
              "    }\n",
              "\n",
              "    .dataframe tbody tr th {\n",
              "        vertical-align: top;\n",
              "    }\n",
              "\n",
              "    .dataframe thead th {\n",
              "        text-align: right;\n",
              "    }\n",
              "</style>\n",
              "<table border=\"1\" class=\"dataframe\">\n",
              "  <thead>\n",
              "    <tr style=\"text-align: right;\">\n",
              "      <th></th>\n",
              "      <th>ID</th>\n",
              "      <th>Name</th>\n",
              "      <th>Price</th>\n",
              "      <th>Brand</th>\n",
              "      <th>Model</th>\n",
              "      <th>Variant</th>\n",
              "      <th>Series</th>\n",
              "      <th>Year</th>\n",
              "      <th>Kilometers</th>\n",
              "      <th>Type</th>\n",
              "      <th>Gearbox</th>\n",
              "      <th>Fuel</th>\n",
              "      <th>Status</th>\n",
              "      <th>CC</th>\n",
              "      <th>Color</th>\n",
              "      <th>Seating Capacity</th>\n",
              "    </tr>\n",
              "  </thead>\n",
              "  <tbody>\n",
              "    <tr>\n",
              "      <th>0</th>\n",
              "      <td>11530130</td>\n",
              "      <td>2010 Toyota Rukus Build 2 AZE151R</td>\n",
              "      <td>9999</td>\n",
              "      <td>Toyota</td>\n",
              "      <td>Rukus</td>\n",
              "      <td>Build 2</td>\n",
              "      <td>AZE151R</td>\n",
              "      <td>2010</td>\n",
              "      <td>263000</td>\n",
              "      <td>Wagon</td>\n",
              "      <td>Automatic</td>\n",
              "      <td>Unleaded Petrol</td>\n",
              "      <td>Used</td>\n",
              "      <td>2362</td>\n",
              "      <td>Grey</td>\n",
              "      <td>5</td>\n",
              "    </tr>\n",
              "    <tr>\n",
              "      <th>1</th>\n",
              "      <td>12190570</td>\n",
              "      <td>2021 Mercedes-Benz V 250 D Avantgarde MWB 447 ...</td>\n",
              "      <td>117990</td>\n",
              "      <td>Mercedes-Benz</td>\n",
              "      <td>V</td>\n",
              "      <td>250 D Avantgarde MWB</td>\n",
              "      <td>447 MY21</td>\n",
              "      <td>2021</td>\n",
              "      <td>19</td>\n",
              "      <td>Wagon</td>\n",
              "      <td>Automatic</td>\n",
              "      <td>Diesel</td>\n",
              "      <td>New In Stock</td>\n",
              "      <td>2143</td>\n",
              "      <td>Black</td>\n",
              "      <td>7</td>\n",
              "    </tr>\n",
              "    <tr>\n",
              "      <th>2</th>\n",
              "      <td>12321855</td>\n",
              "      <td>2021 Mercedes-Benz Valente 116 CDI MWB RWD 447...</td>\n",
              "      <td>79990</td>\n",
              "      <td>Mercedes-Benz</td>\n",
              "      <td>Valente</td>\n",
              "      <td>116 CDI MWB RWD</td>\n",
              "      <td>447 MY21</td>\n",
              "      <td>2021</td>\n",
              "      <td>24</td>\n",
              "      <td>Wagon</td>\n",
              "      <td>Automatic</td>\n",
              "      <td>Diesel</td>\n",
              "      <td>New In Stock</td>\n",
              "      <td>2143</td>\n",
              "      <td>Black</td>\n",
              "      <td>8</td>\n",
              "    </tr>\n",
              "    <tr>\n",
              "      <th>3</th>\n",
              "      <td>12346971</td>\n",
              "      <td>2010 Mercedes-Benz E250 CDI Avantgarde 207</td>\n",
              "      <td>34990</td>\n",
              "      <td>Mercedes-Benz</td>\n",
              "      <td>E250</td>\n",
              "      <td>CDI Avantgarde</td>\n",
              "      <td>207</td>\n",
              "      <td>2010</td>\n",
              "      <td>120579</td>\n",
              "      <td>Cabriolet</td>\n",
              "      <td>Automatic</td>\n",
              "      <td>Diesel</td>\n",
              "      <td>Used</td>\n",
              "      <td>2143</td>\n",
              "      <td>Black</td>\n",
              "      <td>4</td>\n",
              "    </tr>\n",
              "    <tr>\n",
              "      <th>4</th>\n",
              "      <td>12363884</td>\n",
              "      <td>2016 Holden Cruze CD JH MY16</td>\n",
              "      <td>15990</td>\n",
              "      <td>Holden</td>\n",
              "      <td>Cruze</td>\n",
              "      <td>CD</td>\n",
              "      <td>JH MY16</td>\n",
              "      <td>2016</td>\n",
              "      <td>72506</td>\n",
              "      <td>Sportswagon</td>\n",
              "      <td>Automatic</td>\n",
              "      <td>Unleaded Petrol</td>\n",
              "      <td>Used</td>\n",
              "      <td>1796</td>\n",
              "      <td>White</td>\n",
              "      <td>5</td>\n",
              "    </tr>\n",
              "    <tr>\n",
              "      <th>...</th>\n",
              "      <td>...</td>\n",
              "      <td>...</td>\n",
              "      <td>...</td>\n",
              "      <td>...</td>\n",
              "      <td>...</td>\n",
              "      <td>...</td>\n",
              "      <td>...</td>\n",
              "      <td>...</td>\n",
              "      <td>...</td>\n",
              "      <td>...</td>\n",
              "      <td>...</td>\n",
              "      <td>...</td>\n",
              "      <td>...</td>\n",
              "      <td>...</td>\n",
              "      <td>...</td>\n",
              "      <td>...</td>\n",
              "    </tr>\n",
              "    <tr>\n",
              "      <th>17043</th>\n",
              "      <td>12852453</td>\n",
              "      <td>2003 Holden Commodore Executive VY</td>\n",
              "      <td>4499</td>\n",
              "      <td>Holden</td>\n",
              "      <td>Commodore</td>\n",
              "      <td>Executive</td>\n",
              "      <td>VY</td>\n",
              "      <td>2003</td>\n",
              "      <td>230441</td>\n",
              "      <td>Sedan</td>\n",
              "      <td>Automatic</td>\n",
              "      <td>Unleaded Petrol</td>\n",
              "      <td>Used</td>\n",
              "      <td>3791</td>\n",
              "      <td>Gold</td>\n",
              "      <td>5</td>\n",
              "    </tr>\n",
              "    <tr>\n",
              "      <th>17044</th>\n",
              "      <td>12852460</td>\n",
              "      <td>2008 Toyota Yaris YR NCP90R</td>\n",
              "      <td>4999</td>\n",
              "      <td>Toyota</td>\n",
              "      <td>Yaris</td>\n",
              "      <td>YR</td>\n",
              "      <td>NCP90R</td>\n",
              "      <td>2008</td>\n",
              "      <td>237113</td>\n",
              "      <td>Hatchback</td>\n",
              "      <td>Manual</td>\n",
              "      <td>Unleaded Petrol</td>\n",
              "      <td>Used</td>\n",
              "      <td>1299</td>\n",
              "      <td>Yellow</td>\n",
              "      <td>5</td>\n",
              "    </tr>\n",
              "    <tr>\n",
              "      <th>17045</th>\n",
              "      <td>12852462</td>\n",
              "      <td>2002 Holden Jackaroo SE LWB (4X4) U8</td>\n",
              "      <td>7999</td>\n",
              "      <td>Holden</td>\n",
              "      <td>Jackaroo</td>\n",
              "      <td>SE LWB (4X4)</td>\n",
              "      <td>U8</td>\n",
              "      <td>2002</td>\n",
              "      <td>238768</td>\n",
              "      <td>Wagon</td>\n",
              "      <td>Automatic</td>\n",
              "      <td>Diesel</td>\n",
              "      <td>Used</td>\n",
              "      <td>2999</td>\n",
              "      <td>Gold</td>\n",
              "      <td>7</td>\n",
              "    </tr>\n",
              "    <tr>\n",
              "      <th>17046</th>\n",
              "      <td>12852463</td>\n",
              "      <td>2016 Hyundai I30 Active GD4 Series 2</td>\n",
              "      <td>14000</td>\n",
              "      <td>Hyundai</td>\n",
              "      <td>I30</td>\n",
              "      <td>Active</td>\n",
              "      <td>GD4 Series 2</td>\n",
              "      <td>2016</td>\n",
              "      <td>49800</td>\n",
              "      <td>Hatchback</td>\n",
              "      <td>Manual</td>\n",
              "      <td>Unleaded Petrol</td>\n",
              "      <td>Used</td>\n",
              "      <td>1797</td>\n",
              "      <td>Blue</td>\n",
              "      <td>5</td>\n",
              "    </tr>\n",
              "    <tr>\n",
              "      <th>17047</th>\n",
              "      <td>12852464</td>\n",
              "      <td>2005 Toyota RAV4 Cruiser (4X4) ACA23R</td>\n",
              "      <td>5999</td>\n",
              "      <td>Toyota</td>\n",
              "      <td>RAV4</td>\n",
              "      <td>Cruiser (4X4)</td>\n",
              "      <td>ACA23R</td>\n",
              "      <td>2005</td>\n",
              "      <td>255809</td>\n",
              "      <td>Wagon</td>\n",
              "      <td>Manual</td>\n",
              "      <td>Unleaded Petrol</td>\n",
              "      <td>Used</td>\n",
              "      <td>2362</td>\n",
              "      <td>Grey</td>\n",
              "      <td>5</td>\n",
              "    </tr>\n",
              "  </tbody>\n",
              "</table>\n",
              "<p>17048 rows × 16 columns</p>\n",
              "</div>\n",
              "    <div class=\"colab-df-buttons\">\n",
              "\n",
              "  <div class=\"colab-df-container\">\n",
              "    <button class=\"colab-df-convert\" onclick=\"convertToInteractive('df-17d92182-9393-47ad-83cd-c313f234f2b4')\"\n",
              "            title=\"Convert this dataframe to an interactive table.\"\n",
              "            style=\"display:none;\">\n",
              "\n",
              "  <svg xmlns=\"http://www.w3.org/2000/svg\" height=\"24px\" viewBox=\"0 -960 960 960\">\n",
              "    <path d=\"M120-120v-720h720v720H120Zm60-500h600v-160H180v160Zm220 220h160v-160H400v160Zm0 220h160v-160H400v160ZM180-400h160v-160H180v160Zm440 0h160v-160H620v160ZM180-180h160v-160H180v160Zm440 0h160v-160H620v160Z\"/>\n",
              "  </svg>\n",
              "    </button>\n",
              "\n",
              "  <style>\n",
              "    .colab-df-container {\n",
              "      display:flex;\n",
              "      gap: 12px;\n",
              "    }\n",
              "\n",
              "    .colab-df-convert {\n",
              "      background-color: #E8F0FE;\n",
              "      border: none;\n",
              "      border-radius: 50%;\n",
              "      cursor: pointer;\n",
              "      display: none;\n",
              "      fill: #1967D2;\n",
              "      height: 32px;\n",
              "      padding: 0 0 0 0;\n",
              "      width: 32px;\n",
              "    }\n",
              "\n",
              "    .colab-df-convert:hover {\n",
              "      background-color: #E2EBFA;\n",
              "      box-shadow: 0px 1px 2px rgba(60, 64, 67, 0.3), 0px 1px 3px 1px rgba(60, 64, 67, 0.15);\n",
              "      fill: #174EA6;\n",
              "    }\n",
              "\n",
              "    .colab-df-buttons div {\n",
              "      margin-bottom: 4px;\n",
              "    }\n",
              "\n",
              "    [theme=dark] .colab-df-convert {\n",
              "      background-color: #3B4455;\n",
              "      fill: #D2E3FC;\n",
              "    }\n",
              "\n",
              "    [theme=dark] .colab-df-convert:hover {\n",
              "      background-color: #434B5C;\n",
              "      box-shadow: 0px 1px 3px 1px rgba(0, 0, 0, 0.15);\n",
              "      filter: drop-shadow(0px 1px 2px rgba(0, 0, 0, 0.3));\n",
              "      fill: #FFFFFF;\n",
              "    }\n",
              "  </style>\n",
              "\n",
              "    <script>\n",
              "      const buttonEl =\n",
              "        document.querySelector('#df-17d92182-9393-47ad-83cd-c313f234f2b4 button.colab-df-convert');\n",
              "      buttonEl.style.display =\n",
              "        google.colab.kernel.accessAllowed ? 'block' : 'none';\n",
              "\n",
              "      async function convertToInteractive(key) {\n",
              "        const element = document.querySelector('#df-17d92182-9393-47ad-83cd-c313f234f2b4');\n",
              "        const dataTable =\n",
              "          await google.colab.kernel.invokeFunction('convertToInteractive',\n",
              "                                                    [key], {});\n",
              "        if (!dataTable) return;\n",
              "\n",
              "        const docLinkHtml = 'Like what you see? Visit the ' +\n",
              "          '<a target=\"_blank\" href=https://colab.research.google.com/notebooks/data_table.ipynb>data table notebook</a>'\n",
              "          + ' to learn more about interactive tables.';\n",
              "        element.innerHTML = '';\n",
              "        dataTable['output_type'] = 'display_data';\n",
              "        await google.colab.output.renderOutput(dataTable, element);\n",
              "        const docLink = document.createElement('div');\n",
              "        docLink.innerHTML = docLinkHtml;\n",
              "        element.appendChild(docLink);\n",
              "      }\n",
              "    </script>\n",
              "  </div>\n",
              "\n",
              "\n",
              "<div id=\"df-1672ea30-b10f-4030-b667-54d9ce4633ee\">\n",
              "  <button class=\"colab-df-quickchart\" onclick=\"quickchart('df-1672ea30-b10f-4030-b667-54d9ce4633ee')\"\n",
              "            title=\"Suggest charts\"\n",
              "            style=\"display:none;\">\n",
              "\n",
              "<svg xmlns=\"http://www.w3.org/2000/svg\" height=\"24px\"viewBox=\"0 0 24 24\"\n",
              "     width=\"24px\">\n",
              "    <g>\n",
              "        <path d=\"M19 3H5c-1.1 0-2 .9-2 2v14c0 1.1.9 2 2 2h14c1.1 0 2-.9 2-2V5c0-1.1-.9-2-2-2zM9 17H7v-7h2v7zm4 0h-2V7h2v10zm4 0h-2v-4h2v4z\"/>\n",
              "    </g>\n",
              "</svg>\n",
              "  </button>\n",
              "\n",
              "<style>\n",
              "  .colab-df-quickchart {\n",
              "      --bg-color: #E8F0FE;\n",
              "      --fill-color: #1967D2;\n",
              "      --hover-bg-color: #E2EBFA;\n",
              "      --hover-fill-color: #174EA6;\n",
              "      --disabled-fill-color: #AAA;\n",
              "      --disabled-bg-color: #DDD;\n",
              "  }\n",
              "\n",
              "  [theme=dark] .colab-df-quickchart {\n",
              "      --bg-color: #3B4455;\n",
              "      --fill-color: #D2E3FC;\n",
              "      --hover-bg-color: #434B5C;\n",
              "      --hover-fill-color: #FFFFFF;\n",
              "      --disabled-bg-color: #3B4455;\n",
              "      --disabled-fill-color: #666;\n",
              "  }\n",
              "\n",
              "  .colab-df-quickchart {\n",
              "    background-color: var(--bg-color);\n",
              "    border: none;\n",
              "    border-radius: 50%;\n",
              "    cursor: pointer;\n",
              "    display: none;\n",
              "    fill: var(--fill-color);\n",
              "    height: 32px;\n",
              "    padding: 0;\n",
              "    width: 32px;\n",
              "  }\n",
              "\n",
              "  .colab-df-quickchart:hover {\n",
              "    background-color: var(--hover-bg-color);\n",
              "    box-shadow: 0 1px 2px rgba(60, 64, 67, 0.3), 0 1px 3px 1px rgba(60, 64, 67, 0.15);\n",
              "    fill: var(--button-hover-fill-color);\n",
              "  }\n",
              "\n",
              "  .colab-df-quickchart-complete:disabled,\n",
              "  .colab-df-quickchart-complete:disabled:hover {\n",
              "    background-color: var(--disabled-bg-color);\n",
              "    fill: var(--disabled-fill-color);\n",
              "    box-shadow: none;\n",
              "  }\n",
              "\n",
              "  .colab-df-spinner {\n",
              "    border: 2px solid var(--fill-color);\n",
              "    border-color: transparent;\n",
              "    border-bottom-color: var(--fill-color);\n",
              "    animation:\n",
              "      spin 1s steps(1) infinite;\n",
              "  }\n",
              "\n",
              "  @keyframes spin {\n",
              "    0% {\n",
              "      border-color: transparent;\n",
              "      border-bottom-color: var(--fill-color);\n",
              "      border-left-color: var(--fill-color);\n",
              "    }\n",
              "    20% {\n",
              "      border-color: transparent;\n",
              "      border-left-color: var(--fill-color);\n",
              "      border-top-color: var(--fill-color);\n",
              "    }\n",
              "    30% {\n",
              "      border-color: transparent;\n",
              "      border-left-color: var(--fill-color);\n",
              "      border-top-color: var(--fill-color);\n",
              "      border-right-color: var(--fill-color);\n",
              "    }\n",
              "    40% {\n",
              "      border-color: transparent;\n",
              "      border-right-color: var(--fill-color);\n",
              "      border-top-color: var(--fill-color);\n",
              "    }\n",
              "    60% {\n",
              "      border-color: transparent;\n",
              "      border-right-color: var(--fill-color);\n",
              "    }\n",
              "    80% {\n",
              "      border-color: transparent;\n",
              "      border-right-color: var(--fill-color);\n",
              "      border-bottom-color: var(--fill-color);\n",
              "    }\n",
              "    90% {\n",
              "      border-color: transparent;\n",
              "      border-bottom-color: var(--fill-color);\n",
              "    }\n",
              "  }\n",
              "</style>\n",
              "\n",
              "  <script>\n",
              "    async function quickchart(key) {\n",
              "      const quickchartButtonEl =\n",
              "        document.querySelector('#' + key + ' button');\n",
              "      quickchartButtonEl.disabled = true;  // To prevent multiple clicks.\n",
              "      quickchartButtonEl.classList.add('colab-df-spinner');\n",
              "      try {\n",
              "        const charts = await google.colab.kernel.invokeFunction(\n",
              "            'suggestCharts', [key], {});\n",
              "      } catch (error) {\n",
              "        console.error('Error during call to suggestCharts:', error);\n",
              "      }\n",
              "      quickchartButtonEl.classList.remove('colab-df-spinner');\n",
              "      quickchartButtonEl.classList.add('colab-df-quickchart-complete');\n",
              "    }\n",
              "    (() => {\n",
              "      let quickchartButtonEl =\n",
              "        document.querySelector('#df-1672ea30-b10f-4030-b667-54d9ce4633ee button');\n",
              "      quickchartButtonEl.style.display =\n",
              "        google.colab.kernel.accessAllowed ? 'block' : 'none';\n",
              "    })();\n",
              "  </script>\n",
              "</div>\n",
              "\n",
              "  <div id=\"id_cafa13ce-5c9a-4543-a932-f94023a4e36c\">\n",
              "    <style>\n",
              "      .colab-df-generate {\n",
              "        background-color: #E8F0FE;\n",
              "        border: none;\n",
              "        border-radius: 50%;\n",
              "        cursor: pointer;\n",
              "        display: none;\n",
              "        fill: #1967D2;\n",
              "        height: 32px;\n",
              "        padding: 0 0 0 0;\n",
              "        width: 32px;\n",
              "      }\n",
              "\n",
              "      .colab-df-generate:hover {\n",
              "        background-color: #E2EBFA;\n",
              "        box-shadow: 0px 1px 2px rgba(60, 64, 67, 0.3), 0px 1px 3px 1px rgba(60, 64, 67, 0.15);\n",
              "        fill: #174EA6;\n",
              "      }\n",
              "\n",
              "      [theme=dark] .colab-df-generate {\n",
              "        background-color: #3B4455;\n",
              "        fill: #D2E3FC;\n",
              "      }\n",
              "\n",
              "      [theme=dark] .colab-df-generate:hover {\n",
              "        background-color: #434B5C;\n",
              "        box-shadow: 0px 1px 3px 1px rgba(0, 0, 0, 0.15);\n",
              "        filter: drop-shadow(0px 1px 2px rgba(0, 0, 0, 0.3));\n",
              "        fill: #FFFFFF;\n",
              "      }\n",
              "    </style>\n",
              "    <button class=\"colab-df-generate\" onclick=\"generateWithVariable('car')\"\n",
              "            title=\"Generate code using this dataframe.\"\n",
              "            style=\"display:none;\">\n",
              "\n",
              "  <svg xmlns=\"http://www.w3.org/2000/svg\" height=\"24px\"viewBox=\"0 0 24 24\"\n",
              "       width=\"24px\">\n",
              "    <path d=\"M7,19H8.4L18.45,9,17,7.55,7,17.6ZM5,21V16.75L18.45,3.32a2,2,0,0,1,2.83,0l1.4,1.43a1.91,1.91,0,0,1,.58,1.4,1.91,1.91,0,0,1-.58,1.4L9.25,21ZM18.45,9,17,7.55Zm-12,3A5.31,5.31,0,0,0,4.9,8.1,5.31,5.31,0,0,0,1,6.5,5.31,5.31,0,0,0,4.9,4.9,5.31,5.31,0,0,0,6.5,1,5.31,5.31,0,0,0,8.1,4.9,5.31,5.31,0,0,0,12,6.5,5.46,5.46,0,0,0,6.5,12Z\"/>\n",
              "  </svg>\n",
              "    </button>\n",
              "    <script>\n",
              "      (() => {\n",
              "      const buttonEl =\n",
              "        document.querySelector('#id_cafa13ce-5c9a-4543-a932-f94023a4e36c button.colab-df-generate');\n",
              "      buttonEl.style.display =\n",
              "        google.colab.kernel.accessAllowed ? 'block' : 'none';\n",
              "\n",
              "      buttonEl.onclick = () => {\n",
              "        google.colab.notebook.generateWithVariable('car');\n",
              "      }\n",
              "      })();\n",
              "    </script>\n",
              "  </div>\n",
              "\n",
              "    </div>\n",
              "  </div>\n"
            ],
            "application/vnd.google.colaboratory.intrinsic+json": {
              "type": "dataframe",
              "variable_name": "car",
              "summary": "{\n  \"name\": \"car\",\n  \"rows\": 17048,\n  \"fields\": [\n    {\n      \"column\": \"ID\",\n      \"properties\": {\n        \"dtype\": \"number\",\n        \"std\": 50511,\n        \"min\": 11530130,\n        \"max\": 12852464,\n        \"num_unique_values\": 17048,\n        \"samples\": [\n          12729700,\n          12769082,\n          12808534\n        ],\n        \"semantic_type\": \"\",\n        \"description\": \"\"\n      }\n    },\n    {\n      \"column\": \"Name\",\n      \"properties\": {\n        \"dtype\": \"string\",\n        \"num_unique_values\": 8575,\n        \"samples\": [\n          \"2014 Toyota Landcruiser Altitude (4X4) VDJ200R\",\n          \"2003 Toyota Landcruiser Prado Grande (4X4) GRJ120R\",\n          \"2022 Subaru WRX RS (awd) MY22\"\n        ],\n        \"semantic_type\": \"\",\n        \"description\": \"\"\n      }\n    },\n    {\n      \"column\": \"Price\",\n      \"properties\": {\n        \"dtype\": \"number\",\n        \"std\": 30305,\n        \"min\": 1000,\n        \"max\": 999000,\n        \"num_unique_values\": 3515,\n        \"samples\": [\n          16599,\n          36480,\n          88888\n        ],\n        \"semantic_type\": \"\",\n        \"description\": \"\"\n      }\n    },\n    {\n      \"column\": \"Brand\",\n      \"properties\": {\n        \"dtype\": \"category\",\n        \"num_unique_values\": 59,\n        \"samples\": [\n          \"Toyota\",\n          \"BMW\",\n          \"Citroen\"\n        ],\n        \"semantic_type\": \"\",\n        \"description\": \"\"\n      }\n    },\n    {\n      \"column\": \"Model\",\n      \"properties\": {\n        \"dtype\": \"category\",\n        \"num_unique_values\": 622,\n        \"samples\": [\n          \"Silverado\",\n          \"T-ROC\",\n          \"A45\"\n        ],\n        \"semantic_type\": \"\",\n        \"description\": \"\"\n      }\n    },\n    {\n      \"column\": \"Variant\",\n      \"properties\": {\n        \"dtype\": \"category\",\n        \"num_unique_values\": 2363,\n        \"samples\": [\n          \"DX\",\n          \"PRO-4X (4X4)\",\n          \"116 CDI SWB\"\n        ],\n        \"semantic_type\": \"\",\n        \"description\": \"\"\n      }\n    },\n    {\n      \"column\": \"Series\",\n      \"properties\": {\n        \"dtype\": \"category\",\n        \"num_unique_values\": 2286,\n        \"samples\": [\n          \"3C MY15\",\n          \"8X\",\n          \"7P MY18\"\n        ],\n        \"semantic_type\": \"\",\n        \"description\": \"\"\n      }\n    },\n    {\n      \"column\": \"Year\",\n      \"properties\": {\n        \"dtype\": \"number\",\n        \"std\": 4,\n        \"min\": 1989,\n        \"max\": 2022,\n        \"num_unique_values\": 34,\n        \"samples\": [\n          2018,\n          2008,\n          1995\n        ],\n        \"semantic_type\": \"\",\n        \"description\": \"\"\n      }\n    },\n    {\n      \"column\": \"Kilometers\",\n      \"properties\": {\n        \"dtype\": \"number\",\n        \"std\": 80413,\n        \"min\": 1,\n        \"max\": 2700000,\n        \"num_unique_values\": 14730,\n        \"samples\": [\n          32447,\n          156066,\n          66545\n        ],\n        \"semantic_type\": \"\",\n        \"description\": \"\"\n      }\n    },\n    {\n      \"column\": \"Type\",\n      \"properties\": {\n        \"dtype\": \"category\",\n        \"num_unique_values\": 56,\n        \"samples\": [\n          \"Wagon\",\n          \"Hatchback\",\n          \"Freestyle Cab Chassis\"\n        ],\n        \"semantic_type\": \"\",\n        \"description\": \"\"\n      }\n    },\n    {\n      \"column\": \"Gearbox\",\n      \"properties\": {\n        \"dtype\": \"category\",\n        \"num_unique_values\": 5,\n        \"samples\": [\n          \"Manual\",\n          \"Rear\",\n          \"Front\"\n        ],\n        \"semantic_type\": \"\",\n        \"description\": \"\"\n      }\n    },\n    {\n      \"column\": \"Fuel\",\n      \"properties\": {\n        \"dtype\": \"category\",\n        \"num_unique_values\": 7,\n        \"samples\": [\n          \"Unleaded Petrol\",\n          \"Diesel\",\n          \"Liquid Petroleum Gas\"\n        ],\n        \"semantic_type\": \"\",\n        \"description\": \"\"\n      }\n    },\n    {\n      \"column\": \"Status\",\n      \"properties\": {\n        \"dtype\": \"category\",\n        \"num_unique_values\": 3,\n        \"samples\": [\n          \" Used\",\n          \" New In Stock\",\n          \" Demo\"\n        ],\n        \"semantic_type\": \"\",\n        \"description\": \"\"\n      }\n    },\n    {\n      \"column\": \"CC\",\n      \"properties\": {\n        \"dtype\": \"number\",\n        \"std\": 881,\n        \"min\": 875,\n        \"max\": 7300,\n        \"num_unique_values\": 305,\n        \"samples\": [\n          5998,\n          1341,\n          2356\n        ],\n        \"semantic_type\": \"\",\n        \"description\": \"\"\n      }\n    },\n    {\n      \"column\": \"Color\",\n      \"properties\": {\n        \"dtype\": \"category\",\n        \"num_unique_values\": 235,\n        \"samples\": [\n          \"Sliver\",\n          \"Cloth\",\n          \"diamond\"\n        ],\n        \"semantic_type\": \"\",\n        \"description\": \"\"\n      }\n    },\n    {\n      \"column\": \"Seating Capacity\",\n      \"properties\": {\n        \"dtype\": \"number\",\n        \"std\": 1,\n        \"min\": 2,\n        \"max\": 14,\n        \"num_unique_values\": 10,\n        \"samples\": [\n          9,\n          7,\n          3\n        ],\n        \"semantic_type\": \"\",\n        \"description\": \"\"\n      }\n    }\n  ]\n}"
            }
          },
          "metadata": {},
          "execution_count": 9
        }
      ]
    },
    {
      "cell_type": "code",
      "source": [
        "car.columns"
      ],
      "metadata": {
        "colab": {
          "base_uri": "https://localhost:8080/"
        },
        "id": "AgjBHCaYsBZe",
        "outputId": "6ba17041-dbd1-45a4-add2-c307b0130270"
      },
      "execution_count": null,
      "outputs": [
        {
          "output_type": "execute_result",
          "data": {
            "text/plain": [
              "Index(['ID', 'Name', 'Price', 'Brand', 'Model', 'Variant', 'Series', 'Year',\n",
              "       'Kilometers', 'Type', 'Gearbox', 'Fuel', 'Status', 'CC', 'Color',\n",
              "       'Seating Capacity'],\n",
              "      dtype='object')"
            ]
          },
          "metadata": {},
          "execution_count": 10
        }
      ]
    },
    {
      "cell_type": "markdown",
      "source": [
        "This data set has 16 columns and each column has some separate values"
      ],
      "metadata": {
        "id": "iDyUWArZsGP9"
      }
    },
    {
      "cell_type": "markdown",
      "source": [
        "## Data Preprocessing & Cleaning with Pandas"
      ],
      "metadata": {
        "id": "QopPQI6TtyLR"
      }
    },
    {
      "cell_type": "code",
      "source": [
        "car.info()"
      ],
      "metadata": {
        "colab": {
          "base_uri": "https://localhost:8080/"
        },
        "id": "XrPqbGd6GLh6",
        "outputId": "10628d5a-1328-48aa-eb94-7c32549ac150"
      },
      "execution_count": null,
      "outputs": [
        {
          "output_type": "stream",
          "name": "stdout",
          "text": [
            "<class 'pandas.core.frame.DataFrame'>\n",
            "RangeIndex: 17048 entries, 0 to 17047\n",
            "Data columns (total 16 columns):\n",
            " #   Column            Non-Null Count  Dtype \n",
            "---  ------            --------------  ----- \n",
            " 0   ID                17048 non-null  int64 \n",
            " 1   Name              17048 non-null  object\n",
            " 2   Price             17048 non-null  int64 \n",
            " 3   Brand             17048 non-null  object\n",
            " 4   Model             17048 non-null  object\n",
            " 5   Variant           17048 non-null  object\n",
            " 6   Series            17048 non-null  object\n",
            " 7   Year              17048 non-null  int64 \n",
            " 8   Kilometers        17048 non-null  int64 \n",
            " 9   Type              17048 non-null  object\n",
            " 10  Gearbox           17048 non-null  object\n",
            " 11  Fuel              17048 non-null  object\n",
            " 12  Status            17048 non-null  object\n",
            " 13  CC                17048 non-null  int64 \n",
            " 14  Color             17048 non-null  object\n",
            " 15  Seating Capacity  17048 non-null  int64 \n",
            "dtypes: int64(6), object(10)\n",
            "memory usage: 2.1+ MB\n"
          ]
        }
      ]
    },
    {
      "cell_type": "code",
      "source": [
        "car.isnull().sum()"
      ],
      "metadata": {
        "colab": {
          "base_uri": "https://localhost:8080/",
          "height": 586
        },
        "id": "i0pPkUBrt96_",
        "outputId": "bb382477-0260-41d2-ca06-bc1c776f70de"
      },
      "execution_count": null,
      "outputs": [
        {
          "output_type": "execute_result",
          "data": {
            "text/plain": [
              "ID                  0\n",
              "Name                0\n",
              "Price               0\n",
              "Brand               0\n",
              "Model               0\n",
              "Variant             0\n",
              "Series              0\n",
              "Year                0\n",
              "Kilometers          0\n",
              "Type                0\n",
              "Gearbox             0\n",
              "Fuel                0\n",
              "Status              0\n",
              "CC                  0\n",
              "Color               0\n",
              "Seating Capacity    0\n",
              "dtype: int64"
            ],
            "text/html": [
              "<div>\n",
              "<style scoped>\n",
              "    .dataframe tbody tr th:only-of-type {\n",
              "        vertical-align: middle;\n",
              "    }\n",
              "\n",
              "    .dataframe tbody tr th {\n",
              "        vertical-align: top;\n",
              "    }\n",
              "\n",
              "    .dataframe thead th {\n",
              "        text-align: right;\n",
              "    }\n",
              "</style>\n",
              "<table border=\"1\" class=\"dataframe\">\n",
              "  <thead>\n",
              "    <tr style=\"text-align: right;\">\n",
              "      <th></th>\n",
              "      <th>0</th>\n",
              "    </tr>\n",
              "  </thead>\n",
              "  <tbody>\n",
              "    <tr>\n",
              "      <th>ID</th>\n",
              "      <td>0</td>\n",
              "    </tr>\n",
              "    <tr>\n",
              "      <th>Name</th>\n",
              "      <td>0</td>\n",
              "    </tr>\n",
              "    <tr>\n",
              "      <th>Price</th>\n",
              "      <td>0</td>\n",
              "    </tr>\n",
              "    <tr>\n",
              "      <th>Brand</th>\n",
              "      <td>0</td>\n",
              "    </tr>\n",
              "    <tr>\n",
              "      <th>Model</th>\n",
              "      <td>0</td>\n",
              "    </tr>\n",
              "    <tr>\n",
              "      <th>Variant</th>\n",
              "      <td>0</td>\n",
              "    </tr>\n",
              "    <tr>\n",
              "      <th>Series</th>\n",
              "      <td>0</td>\n",
              "    </tr>\n",
              "    <tr>\n",
              "      <th>Year</th>\n",
              "      <td>0</td>\n",
              "    </tr>\n",
              "    <tr>\n",
              "      <th>Kilometers</th>\n",
              "      <td>0</td>\n",
              "    </tr>\n",
              "    <tr>\n",
              "      <th>Type</th>\n",
              "      <td>0</td>\n",
              "    </tr>\n",
              "    <tr>\n",
              "      <th>Gearbox</th>\n",
              "      <td>0</td>\n",
              "    </tr>\n",
              "    <tr>\n",
              "      <th>Fuel</th>\n",
              "      <td>0</td>\n",
              "    </tr>\n",
              "    <tr>\n",
              "      <th>Status</th>\n",
              "      <td>0</td>\n",
              "    </tr>\n",
              "    <tr>\n",
              "      <th>CC</th>\n",
              "      <td>0</td>\n",
              "    </tr>\n",
              "    <tr>\n",
              "      <th>Color</th>\n",
              "      <td>0</td>\n",
              "    </tr>\n",
              "    <tr>\n",
              "      <th>Seating Capacity</th>\n",
              "      <td>0</td>\n",
              "    </tr>\n",
              "  </tbody>\n",
              "</table>\n",
              "</div><br><label><b>dtype:</b> int64</label>"
            ]
          },
          "metadata": {},
          "execution_count": 12
        }
      ]
    },
    {
      "cell_type": "markdown",
      "source": [
        "This dataset does not have a single null value that's why i moved to next step"
      ],
      "metadata": {
        "id": "b7QUw-6Jt6w6"
      }
    },
    {
      "cell_type": "markdown",
      "source": [
        "**Removing Duplicates**"
      ],
      "metadata": {
        "id": "YtLMRjk1EySE"
      }
    },
    {
      "cell_type": "code",
      "source": [
        "car.drop_duplicates()\n"
      ],
      "metadata": {
        "colab": {
          "base_uri": "https://localhost:8080/",
          "height": 1000
        },
        "id": "yzuEzv25uU14",
        "outputId": "7c4e6374-e082-49dc-9e05-54a963677954"
      },
      "execution_count": null,
      "outputs": [
        {
          "output_type": "execute_result",
          "data": {
            "text/plain": [
              "             ID                                               Name   Price  \\\n",
              "0      11530130                  2010 Toyota Rukus Build 2 AZE151R    9999   \n",
              "1      12190570  2021 Mercedes-Benz V 250 D Avantgarde MWB 447 ...  117990   \n",
              "2      12321855  2021 Mercedes-Benz Valente 116 CDI MWB RWD 447...   79990   \n",
              "3      12346971         2010 Mercedes-Benz E250 CDI Avantgarde 207   34990   \n",
              "4      12363884                       2016 Holden Cruze CD JH MY16   15990   \n",
              "...         ...                                                ...     ...   \n",
              "17043  12852453                 2003 Holden Commodore Executive VY    4499   \n",
              "17044  12852460                        2008 Toyota Yaris YR NCP90R    4999   \n",
              "17045  12852462               2002 Holden Jackaroo SE LWB (4X4) U8    7999   \n",
              "17046  12852463               2016 Hyundai I30 Active GD4 Series 2   14000   \n",
              "17047  12852464              2005 Toyota RAV4 Cruiser (4X4) ACA23R    5999   \n",
              "\n",
              "               Brand      Model               Variant        Series  Year  \\\n",
              "0             Toyota      Rukus               Build 2       AZE151R  2010   \n",
              "1      Mercedes-Benz          V  250 D Avantgarde MWB      447 MY21  2021   \n",
              "2      Mercedes-Benz    Valente       116 CDI MWB RWD      447 MY21  2021   \n",
              "3      Mercedes-Benz       E250        CDI Avantgarde           207  2010   \n",
              "4             Holden      Cruze                    CD       JH MY16  2016   \n",
              "...              ...        ...                   ...           ...   ...   \n",
              "17043         Holden  Commodore             Executive            VY  2003   \n",
              "17044         Toyota      Yaris                    YR        NCP90R  2008   \n",
              "17045         Holden   Jackaroo          SE LWB (4X4)            U8  2002   \n",
              "17046        Hyundai        I30                Active  GD4 Series 2  2016   \n",
              "17047         Toyota       RAV4         Cruiser (4X4)        ACA23R  2005   \n",
              "\n",
              "       Kilometers         Type    Gearbox             Fuel         Status  \\\n",
              "0          263000        Wagon  Automatic  Unleaded Petrol           Used   \n",
              "1              19        Wagon  Automatic           Diesel   New In Stock   \n",
              "2              24        Wagon  Automatic           Diesel   New In Stock   \n",
              "3          120579    Cabriolet  Automatic           Diesel           Used   \n",
              "4           72506  Sportswagon  Automatic  Unleaded Petrol           Used   \n",
              "...           ...          ...        ...              ...            ...   \n",
              "17043      230441        Sedan  Automatic  Unleaded Petrol           Used   \n",
              "17044      237113    Hatchback     Manual  Unleaded Petrol           Used   \n",
              "17045      238768        Wagon  Automatic           Diesel           Used   \n",
              "17046       49800    Hatchback     Manual  Unleaded Petrol           Used   \n",
              "17047      255809        Wagon     Manual  Unleaded Petrol           Used   \n",
              "\n",
              "         CC   Color  Seating Capacity  \n",
              "0      2362    Grey                 5  \n",
              "1      2143   Black                 7  \n",
              "2      2143   Black                 8  \n",
              "3      2143   Black                 4  \n",
              "4      1796   White                 5  \n",
              "...     ...     ...               ...  \n",
              "17043  3791    Gold                 5  \n",
              "17044  1299  Yellow                 5  \n",
              "17045  2999    Gold                 7  \n",
              "17046  1797    Blue                 5  \n",
              "17047  2362    Grey                 5  \n",
              "\n",
              "[17048 rows x 16 columns]"
            ],
            "text/html": [
              "\n",
              "  <div id=\"df-54ab911b-95c7-4c8e-a569-8635646b9e53\" class=\"colab-df-container\">\n",
              "    <div>\n",
              "<style scoped>\n",
              "    .dataframe tbody tr th:only-of-type {\n",
              "        vertical-align: middle;\n",
              "    }\n",
              "\n",
              "    .dataframe tbody tr th {\n",
              "        vertical-align: top;\n",
              "    }\n",
              "\n",
              "    .dataframe thead th {\n",
              "        text-align: right;\n",
              "    }\n",
              "</style>\n",
              "<table border=\"1\" class=\"dataframe\">\n",
              "  <thead>\n",
              "    <tr style=\"text-align: right;\">\n",
              "      <th></th>\n",
              "      <th>ID</th>\n",
              "      <th>Name</th>\n",
              "      <th>Price</th>\n",
              "      <th>Brand</th>\n",
              "      <th>Model</th>\n",
              "      <th>Variant</th>\n",
              "      <th>Series</th>\n",
              "      <th>Year</th>\n",
              "      <th>Kilometers</th>\n",
              "      <th>Type</th>\n",
              "      <th>Gearbox</th>\n",
              "      <th>Fuel</th>\n",
              "      <th>Status</th>\n",
              "      <th>CC</th>\n",
              "      <th>Color</th>\n",
              "      <th>Seating Capacity</th>\n",
              "    </tr>\n",
              "  </thead>\n",
              "  <tbody>\n",
              "    <tr>\n",
              "      <th>0</th>\n",
              "      <td>11530130</td>\n",
              "      <td>2010 Toyota Rukus Build 2 AZE151R</td>\n",
              "      <td>9999</td>\n",
              "      <td>Toyota</td>\n",
              "      <td>Rukus</td>\n",
              "      <td>Build 2</td>\n",
              "      <td>AZE151R</td>\n",
              "      <td>2010</td>\n",
              "      <td>263000</td>\n",
              "      <td>Wagon</td>\n",
              "      <td>Automatic</td>\n",
              "      <td>Unleaded Petrol</td>\n",
              "      <td>Used</td>\n",
              "      <td>2362</td>\n",
              "      <td>Grey</td>\n",
              "      <td>5</td>\n",
              "    </tr>\n",
              "    <tr>\n",
              "      <th>1</th>\n",
              "      <td>12190570</td>\n",
              "      <td>2021 Mercedes-Benz V 250 D Avantgarde MWB 447 ...</td>\n",
              "      <td>117990</td>\n",
              "      <td>Mercedes-Benz</td>\n",
              "      <td>V</td>\n",
              "      <td>250 D Avantgarde MWB</td>\n",
              "      <td>447 MY21</td>\n",
              "      <td>2021</td>\n",
              "      <td>19</td>\n",
              "      <td>Wagon</td>\n",
              "      <td>Automatic</td>\n",
              "      <td>Diesel</td>\n",
              "      <td>New In Stock</td>\n",
              "      <td>2143</td>\n",
              "      <td>Black</td>\n",
              "      <td>7</td>\n",
              "    </tr>\n",
              "    <tr>\n",
              "      <th>2</th>\n",
              "      <td>12321855</td>\n",
              "      <td>2021 Mercedes-Benz Valente 116 CDI MWB RWD 447...</td>\n",
              "      <td>79990</td>\n",
              "      <td>Mercedes-Benz</td>\n",
              "      <td>Valente</td>\n",
              "      <td>116 CDI MWB RWD</td>\n",
              "      <td>447 MY21</td>\n",
              "      <td>2021</td>\n",
              "      <td>24</td>\n",
              "      <td>Wagon</td>\n",
              "      <td>Automatic</td>\n",
              "      <td>Diesel</td>\n",
              "      <td>New In Stock</td>\n",
              "      <td>2143</td>\n",
              "      <td>Black</td>\n",
              "      <td>8</td>\n",
              "    </tr>\n",
              "    <tr>\n",
              "      <th>3</th>\n",
              "      <td>12346971</td>\n",
              "      <td>2010 Mercedes-Benz E250 CDI Avantgarde 207</td>\n",
              "      <td>34990</td>\n",
              "      <td>Mercedes-Benz</td>\n",
              "      <td>E250</td>\n",
              "      <td>CDI Avantgarde</td>\n",
              "      <td>207</td>\n",
              "      <td>2010</td>\n",
              "      <td>120579</td>\n",
              "      <td>Cabriolet</td>\n",
              "      <td>Automatic</td>\n",
              "      <td>Diesel</td>\n",
              "      <td>Used</td>\n",
              "      <td>2143</td>\n",
              "      <td>Black</td>\n",
              "      <td>4</td>\n",
              "    </tr>\n",
              "    <tr>\n",
              "      <th>4</th>\n",
              "      <td>12363884</td>\n",
              "      <td>2016 Holden Cruze CD JH MY16</td>\n",
              "      <td>15990</td>\n",
              "      <td>Holden</td>\n",
              "      <td>Cruze</td>\n",
              "      <td>CD</td>\n",
              "      <td>JH MY16</td>\n",
              "      <td>2016</td>\n",
              "      <td>72506</td>\n",
              "      <td>Sportswagon</td>\n",
              "      <td>Automatic</td>\n",
              "      <td>Unleaded Petrol</td>\n",
              "      <td>Used</td>\n",
              "      <td>1796</td>\n",
              "      <td>White</td>\n",
              "      <td>5</td>\n",
              "    </tr>\n",
              "    <tr>\n",
              "      <th>...</th>\n",
              "      <td>...</td>\n",
              "      <td>...</td>\n",
              "      <td>...</td>\n",
              "      <td>...</td>\n",
              "      <td>...</td>\n",
              "      <td>...</td>\n",
              "      <td>...</td>\n",
              "      <td>...</td>\n",
              "      <td>...</td>\n",
              "      <td>...</td>\n",
              "      <td>...</td>\n",
              "      <td>...</td>\n",
              "      <td>...</td>\n",
              "      <td>...</td>\n",
              "      <td>...</td>\n",
              "      <td>...</td>\n",
              "    </tr>\n",
              "    <tr>\n",
              "      <th>17043</th>\n",
              "      <td>12852453</td>\n",
              "      <td>2003 Holden Commodore Executive VY</td>\n",
              "      <td>4499</td>\n",
              "      <td>Holden</td>\n",
              "      <td>Commodore</td>\n",
              "      <td>Executive</td>\n",
              "      <td>VY</td>\n",
              "      <td>2003</td>\n",
              "      <td>230441</td>\n",
              "      <td>Sedan</td>\n",
              "      <td>Automatic</td>\n",
              "      <td>Unleaded Petrol</td>\n",
              "      <td>Used</td>\n",
              "      <td>3791</td>\n",
              "      <td>Gold</td>\n",
              "      <td>5</td>\n",
              "    </tr>\n",
              "    <tr>\n",
              "      <th>17044</th>\n",
              "      <td>12852460</td>\n",
              "      <td>2008 Toyota Yaris YR NCP90R</td>\n",
              "      <td>4999</td>\n",
              "      <td>Toyota</td>\n",
              "      <td>Yaris</td>\n",
              "      <td>YR</td>\n",
              "      <td>NCP90R</td>\n",
              "      <td>2008</td>\n",
              "      <td>237113</td>\n",
              "      <td>Hatchback</td>\n",
              "      <td>Manual</td>\n",
              "      <td>Unleaded Petrol</td>\n",
              "      <td>Used</td>\n",
              "      <td>1299</td>\n",
              "      <td>Yellow</td>\n",
              "      <td>5</td>\n",
              "    </tr>\n",
              "    <tr>\n",
              "      <th>17045</th>\n",
              "      <td>12852462</td>\n",
              "      <td>2002 Holden Jackaroo SE LWB (4X4) U8</td>\n",
              "      <td>7999</td>\n",
              "      <td>Holden</td>\n",
              "      <td>Jackaroo</td>\n",
              "      <td>SE LWB (4X4)</td>\n",
              "      <td>U8</td>\n",
              "      <td>2002</td>\n",
              "      <td>238768</td>\n",
              "      <td>Wagon</td>\n",
              "      <td>Automatic</td>\n",
              "      <td>Diesel</td>\n",
              "      <td>Used</td>\n",
              "      <td>2999</td>\n",
              "      <td>Gold</td>\n",
              "      <td>7</td>\n",
              "    </tr>\n",
              "    <tr>\n",
              "      <th>17046</th>\n",
              "      <td>12852463</td>\n",
              "      <td>2016 Hyundai I30 Active GD4 Series 2</td>\n",
              "      <td>14000</td>\n",
              "      <td>Hyundai</td>\n",
              "      <td>I30</td>\n",
              "      <td>Active</td>\n",
              "      <td>GD4 Series 2</td>\n",
              "      <td>2016</td>\n",
              "      <td>49800</td>\n",
              "      <td>Hatchback</td>\n",
              "      <td>Manual</td>\n",
              "      <td>Unleaded Petrol</td>\n",
              "      <td>Used</td>\n",
              "      <td>1797</td>\n",
              "      <td>Blue</td>\n",
              "      <td>5</td>\n",
              "    </tr>\n",
              "    <tr>\n",
              "      <th>17047</th>\n",
              "      <td>12852464</td>\n",
              "      <td>2005 Toyota RAV4 Cruiser (4X4) ACA23R</td>\n",
              "      <td>5999</td>\n",
              "      <td>Toyota</td>\n",
              "      <td>RAV4</td>\n",
              "      <td>Cruiser (4X4)</td>\n",
              "      <td>ACA23R</td>\n",
              "      <td>2005</td>\n",
              "      <td>255809</td>\n",
              "      <td>Wagon</td>\n",
              "      <td>Manual</td>\n",
              "      <td>Unleaded Petrol</td>\n",
              "      <td>Used</td>\n",
              "      <td>2362</td>\n",
              "      <td>Grey</td>\n",
              "      <td>5</td>\n",
              "    </tr>\n",
              "  </tbody>\n",
              "</table>\n",
              "<p>17048 rows × 16 columns</p>\n",
              "</div>\n",
              "    <div class=\"colab-df-buttons\">\n",
              "\n",
              "  <div class=\"colab-df-container\">\n",
              "    <button class=\"colab-df-convert\" onclick=\"convertToInteractive('df-54ab911b-95c7-4c8e-a569-8635646b9e53')\"\n",
              "            title=\"Convert this dataframe to an interactive table.\"\n",
              "            style=\"display:none;\">\n",
              "\n",
              "  <svg xmlns=\"http://www.w3.org/2000/svg\" height=\"24px\" viewBox=\"0 -960 960 960\">\n",
              "    <path d=\"M120-120v-720h720v720H120Zm60-500h600v-160H180v160Zm220 220h160v-160H400v160Zm0 220h160v-160H400v160ZM180-400h160v-160H180v160Zm440 0h160v-160H620v160ZM180-180h160v-160H180v160Zm440 0h160v-160H620v160Z\"/>\n",
              "  </svg>\n",
              "    </button>\n",
              "\n",
              "  <style>\n",
              "    .colab-df-container {\n",
              "      display:flex;\n",
              "      gap: 12px;\n",
              "    }\n",
              "\n",
              "    .colab-df-convert {\n",
              "      background-color: #E8F0FE;\n",
              "      border: none;\n",
              "      border-radius: 50%;\n",
              "      cursor: pointer;\n",
              "      display: none;\n",
              "      fill: #1967D2;\n",
              "      height: 32px;\n",
              "      padding: 0 0 0 0;\n",
              "      width: 32px;\n",
              "    }\n",
              "\n",
              "    .colab-df-convert:hover {\n",
              "      background-color: #E2EBFA;\n",
              "      box-shadow: 0px 1px 2px rgba(60, 64, 67, 0.3), 0px 1px 3px 1px rgba(60, 64, 67, 0.15);\n",
              "      fill: #174EA6;\n",
              "    }\n",
              "\n",
              "    .colab-df-buttons div {\n",
              "      margin-bottom: 4px;\n",
              "    }\n",
              "\n",
              "    [theme=dark] .colab-df-convert {\n",
              "      background-color: #3B4455;\n",
              "      fill: #D2E3FC;\n",
              "    }\n",
              "\n",
              "    [theme=dark] .colab-df-convert:hover {\n",
              "      background-color: #434B5C;\n",
              "      box-shadow: 0px 1px 3px 1px rgba(0, 0, 0, 0.15);\n",
              "      filter: drop-shadow(0px 1px 2px rgba(0, 0, 0, 0.3));\n",
              "      fill: #FFFFFF;\n",
              "    }\n",
              "  </style>\n",
              "\n",
              "    <script>\n",
              "      const buttonEl =\n",
              "        document.querySelector('#df-54ab911b-95c7-4c8e-a569-8635646b9e53 button.colab-df-convert');\n",
              "      buttonEl.style.display =\n",
              "        google.colab.kernel.accessAllowed ? 'block' : 'none';\n",
              "\n",
              "      async function convertToInteractive(key) {\n",
              "        const element = document.querySelector('#df-54ab911b-95c7-4c8e-a569-8635646b9e53');\n",
              "        const dataTable =\n",
              "          await google.colab.kernel.invokeFunction('convertToInteractive',\n",
              "                                                    [key], {});\n",
              "        if (!dataTable) return;\n",
              "\n",
              "        const docLinkHtml = 'Like what you see? Visit the ' +\n",
              "          '<a target=\"_blank\" href=https://colab.research.google.com/notebooks/data_table.ipynb>data table notebook</a>'\n",
              "          + ' to learn more about interactive tables.';\n",
              "        element.innerHTML = '';\n",
              "        dataTable['output_type'] = 'display_data';\n",
              "        await google.colab.output.renderOutput(dataTable, element);\n",
              "        const docLink = document.createElement('div');\n",
              "        docLink.innerHTML = docLinkHtml;\n",
              "        element.appendChild(docLink);\n",
              "      }\n",
              "    </script>\n",
              "  </div>\n",
              "\n",
              "\n",
              "<div id=\"df-f7cc4dde-17d2-4d46-8e42-d9d68bd24501\">\n",
              "  <button class=\"colab-df-quickchart\" onclick=\"quickchart('df-f7cc4dde-17d2-4d46-8e42-d9d68bd24501')\"\n",
              "            title=\"Suggest charts\"\n",
              "            style=\"display:none;\">\n",
              "\n",
              "<svg xmlns=\"http://www.w3.org/2000/svg\" height=\"24px\"viewBox=\"0 0 24 24\"\n",
              "     width=\"24px\">\n",
              "    <g>\n",
              "        <path d=\"M19 3H5c-1.1 0-2 .9-2 2v14c0 1.1.9 2 2 2h14c1.1 0 2-.9 2-2V5c0-1.1-.9-2-2-2zM9 17H7v-7h2v7zm4 0h-2V7h2v10zm4 0h-2v-4h2v4z\"/>\n",
              "    </g>\n",
              "</svg>\n",
              "  </button>\n",
              "\n",
              "<style>\n",
              "  .colab-df-quickchart {\n",
              "      --bg-color: #E8F0FE;\n",
              "      --fill-color: #1967D2;\n",
              "      --hover-bg-color: #E2EBFA;\n",
              "      --hover-fill-color: #174EA6;\n",
              "      --disabled-fill-color: #AAA;\n",
              "      --disabled-bg-color: #DDD;\n",
              "  }\n",
              "\n",
              "  [theme=dark] .colab-df-quickchart {\n",
              "      --bg-color: #3B4455;\n",
              "      --fill-color: #D2E3FC;\n",
              "      --hover-bg-color: #434B5C;\n",
              "      --hover-fill-color: #FFFFFF;\n",
              "      --disabled-bg-color: #3B4455;\n",
              "      --disabled-fill-color: #666;\n",
              "  }\n",
              "\n",
              "  .colab-df-quickchart {\n",
              "    background-color: var(--bg-color);\n",
              "    border: none;\n",
              "    border-radius: 50%;\n",
              "    cursor: pointer;\n",
              "    display: none;\n",
              "    fill: var(--fill-color);\n",
              "    height: 32px;\n",
              "    padding: 0;\n",
              "    width: 32px;\n",
              "  }\n",
              "\n",
              "  .colab-df-quickchart:hover {\n",
              "    background-color: var(--hover-bg-color);\n",
              "    box-shadow: 0 1px 2px rgba(60, 64, 67, 0.3), 0 1px 3px 1px rgba(60, 64, 67, 0.15);\n",
              "    fill: var(--button-hover-fill-color);\n",
              "  }\n",
              "\n",
              "  .colab-df-quickchart-complete:disabled,\n",
              "  .colab-df-quickchart-complete:disabled:hover {\n",
              "    background-color: var(--disabled-bg-color);\n",
              "    fill: var(--disabled-fill-color);\n",
              "    box-shadow: none;\n",
              "  }\n",
              "\n",
              "  .colab-df-spinner {\n",
              "    border: 2px solid var(--fill-color);\n",
              "    border-color: transparent;\n",
              "    border-bottom-color: var(--fill-color);\n",
              "    animation:\n",
              "      spin 1s steps(1) infinite;\n",
              "  }\n",
              "\n",
              "  @keyframes spin {\n",
              "    0% {\n",
              "      border-color: transparent;\n",
              "      border-bottom-color: var(--fill-color);\n",
              "      border-left-color: var(--fill-color);\n",
              "    }\n",
              "    20% {\n",
              "      border-color: transparent;\n",
              "      border-left-color: var(--fill-color);\n",
              "      border-top-color: var(--fill-color);\n",
              "    }\n",
              "    30% {\n",
              "      border-color: transparent;\n",
              "      border-left-color: var(--fill-color);\n",
              "      border-top-color: var(--fill-color);\n",
              "      border-right-color: var(--fill-color);\n",
              "    }\n",
              "    40% {\n",
              "      border-color: transparent;\n",
              "      border-right-color: var(--fill-color);\n",
              "      border-top-color: var(--fill-color);\n",
              "    }\n",
              "    60% {\n",
              "      border-color: transparent;\n",
              "      border-right-color: var(--fill-color);\n",
              "    }\n",
              "    80% {\n",
              "      border-color: transparent;\n",
              "      border-right-color: var(--fill-color);\n",
              "      border-bottom-color: var(--fill-color);\n",
              "    }\n",
              "    90% {\n",
              "      border-color: transparent;\n",
              "      border-bottom-color: var(--fill-color);\n",
              "    }\n",
              "  }\n",
              "</style>\n",
              "\n",
              "  <script>\n",
              "    async function quickchart(key) {\n",
              "      const quickchartButtonEl =\n",
              "        document.querySelector('#' + key + ' button');\n",
              "      quickchartButtonEl.disabled = true;  // To prevent multiple clicks.\n",
              "      quickchartButtonEl.classList.add('colab-df-spinner');\n",
              "      try {\n",
              "        const charts = await google.colab.kernel.invokeFunction(\n",
              "            'suggestCharts', [key], {});\n",
              "      } catch (error) {\n",
              "        console.error('Error during call to suggestCharts:', error);\n",
              "      }\n",
              "      quickchartButtonEl.classList.remove('colab-df-spinner');\n",
              "      quickchartButtonEl.classList.add('colab-df-quickchart-complete');\n",
              "    }\n",
              "    (() => {\n",
              "      let quickchartButtonEl =\n",
              "        document.querySelector('#df-f7cc4dde-17d2-4d46-8e42-d9d68bd24501 button');\n",
              "      quickchartButtonEl.style.display =\n",
              "        google.colab.kernel.accessAllowed ? 'block' : 'none';\n",
              "    })();\n",
              "  </script>\n",
              "</div>\n",
              "\n",
              "    </div>\n",
              "  </div>\n"
            ],
            "application/vnd.google.colaboratory.intrinsic+json": {
              "type": "dataframe",
              "summary": "{\n  \"name\": \"car\",\n  \"rows\": 17048,\n  \"fields\": [\n    {\n      \"column\": \"ID\",\n      \"properties\": {\n        \"dtype\": \"number\",\n        \"std\": 50511,\n        \"min\": 11530130,\n        \"max\": 12852464,\n        \"num_unique_values\": 17048,\n        \"samples\": [\n          12729700,\n          12769082,\n          12808534\n        ],\n        \"semantic_type\": \"\",\n        \"description\": \"\"\n      }\n    },\n    {\n      \"column\": \"Name\",\n      \"properties\": {\n        \"dtype\": \"string\",\n        \"num_unique_values\": 8575,\n        \"samples\": [\n          \"2014 Toyota Landcruiser Altitude (4X4) VDJ200R\",\n          \"2003 Toyota Landcruiser Prado Grande (4X4) GRJ120R\",\n          \"2022 Subaru WRX RS (awd) MY22\"\n        ],\n        \"semantic_type\": \"\",\n        \"description\": \"\"\n      }\n    },\n    {\n      \"column\": \"Price\",\n      \"properties\": {\n        \"dtype\": \"number\",\n        \"std\": 30305,\n        \"min\": 1000,\n        \"max\": 999000,\n        \"num_unique_values\": 3515,\n        \"samples\": [\n          16599,\n          36480,\n          88888\n        ],\n        \"semantic_type\": \"\",\n        \"description\": \"\"\n      }\n    },\n    {\n      \"column\": \"Brand\",\n      \"properties\": {\n        \"dtype\": \"category\",\n        \"num_unique_values\": 59,\n        \"samples\": [\n          \"Toyota\",\n          \"BMW\",\n          \"Citroen\"\n        ],\n        \"semantic_type\": \"\",\n        \"description\": \"\"\n      }\n    },\n    {\n      \"column\": \"Model\",\n      \"properties\": {\n        \"dtype\": \"category\",\n        \"num_unique_values\": 622,\n        \"samples\": [\n          \"Silverado\",\n          \"T-ROC\",\n          \"A45\"\n        ],\n        \"semantic_type\": \"\",\n        \"description\": \"\"\n      }\n    },\n    {\n      \"column\": \"Variant\",\n      \"properties\": {\n        \"dtype\": \"category\",\n        \"num_unique_values\": 2363,\n        \"samples\": [\n          \"DX\",\n          \"PRO-4X (4X4)\",\n          \"116 CDI SWB\"\n        ],\n        \"semantic_type\": \"\",\n        \"description\": \"\"\n      }\n    },\n    {\n      \"column\": \"Series\",\n      \"properties\": {\n        \"dtype\": \"category\",\n        \"num_unique_values\": 2286,\n        \"samples\": [\n          \"3C MY15\",\n          \"8X\",\n          \"7P MY18\"\n        ],\n        \"semantic_type\": \"\",\n        \"description\": \"\"\n      }\n    },\n    {\n      \"column\": \"Year\",\n      \"properties\": {\n        \"dtype\": \"number\",\n        \"std\": 4,\n        \"min\": 1989,\n        \"max\": 2022,\n        \"num_unique_values\": 34,\n        \"samples\": [\n          2018,\n          2008,\n          1995\n        ],\n        \"semantic_type\": \"\",\n        \"description\": \"\"\n      }\n    },\n    {\n      \"column\": \"Kilometers\",\n      \"properties\": {\n        \"dtype\": \"number\",\n        \"std\": 80413,\n        \"min\": 1,\n        \"max\": 2700000,\n        \"num_unique_values\": 14730,\n        \"samples\": [\n          32447,\n          156066,\n          66545\n        ],\n        \"semantic_type\": \"\",\n        \"description\": \"\"\n      }\n    },\n    {\n      \"column\": \"Type\",\n      \"properties\": {\n        \"dtype\": \"category\",\n        \"num_unique_values\": 56,\n        \"samples\": [\n          \"Wagon\",\n          \"Hatchback\",\n          \"Freestyle Cab Chassis\"\n        ],\n        \"semantic_type\": \"\",\n        \"description\": \"\"\n      }\n    },\n    {\n      \"column\": \"Gearbox\",\n      \"properties\": {\n        \"dtype\": \"category\",\n        \"num_unique_values\": 5,\n        \"samples\": [\n          \"Manual\",\n          \"Rear\",\n          \"Front\"\n        ],\n        \"semantic_type\": \"\",\n        \"description\": \"\"\n      }\n    },\n    {\n      \"column\": \"Fuel\",\n      \"properties\": {\n        \"dtype\": \"category\",\n        \"num_unique_values\": 7,\n        \"samples\": [\n          \"Unleaded Petrol\",\n          \"Diesel\",\n          \"Liquid Petroleum Gas\"\n        ],\n        \"semantic_type\": \"\",\n        \"description\": \"\"\n      }\n    },\n    {\n      \"column\": \"Status\",\n      \"properties\": {\n        \"dtype\": \"category\",\n        \"num_unique_values\": 3,\n        \"samples\": [\n          \" Used\",\n          \" New In Stock\",\n          \" Demo\"\n        ],\n        \"semantic_type\": \"\",\n        \"description\": \"\"\n      }\n    },\n    {\n      \"column\": \"CC\",\n      \"properties\": {\n        \"dtype\": \"number\",\n        \"std\": 881,\n        \"min\": 875,\n        \"max\": 7300,\n        \"num_unique_values\": 305,\n        \"samples\": [\n          5998,\n          1341,\n          2356\n        ],\n        \"semantic_type\": \"\",\n        \"description\": \"\"\n      }\n    },\n    {\n      \"column\": \"Color\",\n      \"properties\": {\n        \"dtype\": \"category\",\n        \"num_unique_values\": 235,\n        \"samples\": [\n          \"Sliver\",\n          \"Cloth\",\n          \"diamond\"\n        ],\n        \"semantic_type\": \"\",\n        \"description\": \"\"\n      }\n    },\n    {\n      \"column\": \"Seating Capacity\",\n      \"properties\": {\n        \"dtype\": \"number\",\n        \"std\": 1,\n        \"min\": 2,\n        \"max\": 14,\n        \"num_unique_values\": 10,\n        \"samples\": [\n          9,\n          7,\n          3\n        ],\n        \"semantic_type\": \"\",\n        \"description\": \"\"\n      }\n    }\n  ]\n}"
            }
          },
          "metadata": {},
          "execution_count": 13
        }
      ]
    },
    {
      "cell_type": "markdown",
      "source": [
        "Removing duplicates in a dataset refers to eliminating rows that contain identical values across all columns or a specified subset of columns. This is done to avoid redundancy and ensure that the analysis is not skewed by repeated data points.Since there is no duplicate rows are found in this data set so we can move to next process"
      ],
      "metadata": {
        "id": "5WmE7GbgEnvJ"
      }
    },
    {
      "cell_type": "code",
      "source": [
        "car.Price.max()"
      ],
      "metadata": {
        "colab": {
          "base_uri": "https://localhost:8080/"
        },
        "id": "_1weNMvnKonu",
        "outputId": "e161ca72-05f6-4b43-e7c4-fe92270e1c5c"
      },
      "execution_count": null,
      "outputs": [
        {
          "output_type": "execute_result",
          "data": {
            "text/plain": [
              "999000"
            ]
          },
          "metadata": {},
          "execution_count": 14
        }
      ]
    },
    {
      "cell_type": "code",
      "source": [
        "car.Price.min()"
      ],
      "metadata": {
        "colab": {
          "base_uri": "https://localhost:8080/"
        },
        "id": "5Br99veVKyiR",
        "outputId": "733d2cad-19e0-4c70-8e24-2859efb0e7b4"
      },
      "execution_count": null,
      "outputs": [
        {
          "output_type": "execute_result",
          "data": {
            "text/plain": [
              "1000"
            ]
          },
          "metadata": {},
          "execution_count": 15
        }
      ]
    },
    {
      "cell_type": "code",
      "source": [
        "car.describe()"
      ],
      "metadata": {
        "colab": {
          "base_uri": "https://localhost:8080/",
          "height": 300
        },
        "id": "RNZicK3Duban",
        "outputId": "54cc2948-b87a-4b03-d398-d3ae07334bf7"
      },
      "execution_count": null,
      "outputs": [
        {
          "output_type": "execute_result",
          "data": {
            "text/plain": [
              "                 ID          Price          Year    Kilometers            CC  \\\n",
              "count  1.704800e+04   17048.000000  17048.000000  1.704800e+04  17048.000000   \n",
              "mean   1.279027e+07   36777.778038   2015.481288  1.032314e+05   2491.830303   \n",
              "std    5.051111e+04   30305.015328      4.721591  8.041313e+04    881.985562   \n",
              "min    1.153013e+07    1000.000000   1989.000000  1.000000e+00    875.000000   \n",
              "25%    1.275715e+07   18800.000000   2013.000000  4.450225e+04   1987.000000   \n",
              "50%    1.280207e+07   29990.000000   2016.000000  8.845400e+04   2354.000000   \n",
              "75%    1.283131e+07   45990.000000   2019.000000  1.488735e+05   2981.000000   \n",
              "max    1.285246e+07  999000.000000   2022.000000  2.700000e+06   7300.000000   \n",
              "\n",
              "       Seating Capacity  \n",
              "count      17048.000000  \n",
              "mean           5.115849  \n",
              "std            1.121791  \n",
              "min            2.000000  \n",
              "25%            5.000000  \n",
              "50%            5.000000  \n",
              "75%            5.000000  \n",
              "max           14.000000  "
            ],
            "text/html": [
              "\n",
              "  <div id=\"df-8df1ed4b-ab8b-4e21-85b7-2b02326c0d2d\" class=\"colab-df-container\">\n",
              "    <div>\n",
              "<style scoped>\n",
              "    .dataframe tbody tr th:only-of-type {\n",
              "        vertical-align: middle;\n",
              "    }\n",
              "\n",
              "    .dataframe tbody tr th {\n",
              "        vertical-align: top;\n",
              "    }\n",
              "\n",
              "    .dataframe thead th {\n",
              "        text-align: right;\n",
              "    }\n",
              "</style>\n",
              "<table border=\"1\" class=\"dataframe\">\n",
              "  <thead>\n",
              "    <tr style=\"text-align: right;\">\n",
              "      <th></th>\n",
              "      <th>ID</th>\n",
              "      <th>Price</th>\n",
              "      <th>Year</th>\n",
              "      <th>Kilometers</th>\n",
              "      <th>CC</th>\n",
              "      <th>Seating Capacity</th>\n",
              "    </tr>\n",
              "  </thead>\n",
              "  <tbody>\n",
              "    <tr>\n",
              "      <th>count</th>\n",
              "      <td>1.704800e+04</td>\n",
              "      <td>17048.000000</td>\n",
              "      <td>17048.000000</td>\n",
              "      <td>1.704800e+04</td>\n",
              "      <td>17048.000000</td>\n",
              "      <td>17048.000000</td>\n",
              "    </tr>\n",
              "    <tr>\n",
              "      <th>mean</th>\n",
              "      <td>1.279027e+07</td>\n",
              "      <td>36777.778038</td>\n",
              "      <td>2015.481288</td>\n",
              "      <td>1.032314e+05</td>\n",
              "      <td>2491.830303</td>\n",
              "      <td>5.115849</td>\n",
              "    </tr>\n",
              "    <tr>\n",
              "      <th>std</th>\n",
              "      <td>5.051111e+04</td>\n",
              "      <td>30305.015328</td>\n",
              "      <td>4.721591</td>\n",
              "      <td>8.041313e+04</td>\n",
              "      <td>881.985562</td>\n",
              "      <td>1.121791</td>\n",
              "    </tr>\n",
              "    <tr>\n",
              "      <th>min</th>\n",
              "      <td>1.153013e+07</td>\n",
              "      <td>1000.000000</td>\n",
              "      <td>1989.000000</td>\n",
              "      <td>1.000000e+00</td>\n",
              "      <td>875.000000</td>\n",
              "      <td>2.000000</td>\n",
              "    </tr>\n",
              "    <tr>\n",
              "      <th>25%</th>\n",
              "      <td>1.275715e+07</td>\n",
              "      <td>18800.000000</td>\n",
              "      <td>2013.000000</td>\n",
              "      <td>4.450225e+04</td>\n",
              "      <td>1987.000000</td>\n",
              "      <td>5.000000</td>\n",
              "    </tr>\n",
              "    <tr>\n",
              "      <th>50%</th>\n",
              "      <td>1.280207e+07</td>\n",
              "      <td>29990.000000</td>\n",
              "      <td>2016.000000</td>\n",
              "      <td>8.845400e+04</td>\n",
              "      <td>2354.000000</td>\n",
              "      <td>5.000000</td>\n",
              "    </tr>\n",
              "    <tr>\n",
              "      <th>75%</th>\n",
              "      <td>1.283131e+07</td>\n",
              "      <td>45990.000000</td>\n",
              "      <td>2019.000000</td>\n",
              "      <td>1.488735e+05</td>\n",
              "      <td>2981.000000</td>\n",
              "      <td>5.000000</td>\n",
              "    </tr>\n",
              "    <tr>\n",
              "      <th>max</th>\n",
              "      <td>1.285246e+07</td>\n",
              "      <td>999000.000000</td>\n",
              "      <td>2022.000000</td>\n",
              "      <td>2.700000e+06</td>\n",
              "      <td>7300.000000</td>\n",
              "      <td>14.000000</td>\n",
              "    </tr>\n",
              "  </tbody>\n",
              "</table>\n",
              "</div>\n",
              "    <div class=\"colab-df-buttons\">\n",
              "\n",
              "  <div class=\"colab-df-container\">\n",
              "    <button class=\"colab-df-convert\" onclick=\"convertToInteractive('df-8df1ed4b-ab8b-4e21-85b7-2b02326c0d2d')\"\n",
              "            title=\"Convert this dataframe to an interactive table.\"\n",
              "            style=\"display:none;\">\n",
              "\n",
              "  <svg xmlns=\"http://www.w3.org/2000/svg\" height=\"24px\" viewBox=\"0 -960 960 960\">\n",
              "    <path d=\"M120-120v-720h720v720H120Zm60-500h600v-160H180v160Zm220 220h160v-160H400v160Zm0 220h160v-160H400v160ZM180-400h160v-160H180v160Zm440 0h160v-160H620v160ZM180-180h160v-160H180v160Zm440 0h160v-160H620v160Z\"/>\n",
              "  </svg>\n",
              "    </button>\n",
              "\n",
              "  <style>\n",
              "    .colab-df-container {\n",
              "      display:flex;\n",
              "      gap: 12px;\n",
              "    }\n",
              "\n",
              "    .colab-df-convert {\n",
              "      background-color: #E8F0FE;\n",
              "      border: none;\n",
              "      border-radius: 50%;\n",
              "      cursor: pointer;\n",
              "      display: none;\n",
              "      fill: #1967D2;\n",
              "      height: 32px;\n",
              "      padding: 0 0 0 0;\n",
              "      width: 32px;\n",
              "    }\n",
              "\n",
              "    .colab-df-convert:hover {\n",
              "      background-color: #E2EBFA;\n",
              "      box-shadow: 0px 1px 2px rgba(60, 64, 67, 0.3), 0px 1px 3px 1px rgba(60, 64, 67, 0.15);\n",
              "      fill: #174EA6;\n",
              "    }\n",
              "\n",
              "    .colab-df-buttons div {\n",
              "      margin-bottom: 4px;\n",
              "    }\n",
              "\n",
              "    [theme=dark] .colab-df-convert {\n",
              "      background-color: #3B4455;\n",
              "      fill: #D2E3FC;\n",
              "    }\n",
              "\n",
              "    [theme=dark] .colab-df-convert:hover {\n",
              "      background-color: #434B5C;\n",
              "      box-shadow: 0px 1px 3px 1px rgba(0, 0, 0, 0.15);\n",
              "      filter: drop-shadow(0px 1px 2px rgba(0, 0, 0, 0.3));\n",
              "      fill: #FFFFFF;\n",
              "    }\n",
              "  </style>\n",
              "\n",
              "    <script>\n",
              "      const buttonEl =\n",
              "        document.querySelector('#df-8df1ed4b-ab8b-4e21-85b7-2b02326c0d2d button.colab-df-convert');\n",
              "      buttonEl.style.display =\n",
              "        google.colab.kernel.accessAllowed ? 'block' : 'none';\n",
              "\n",
              "      async function convertToInteractive(key) {\n",
              "        const element = document.querySelector('#df-8df1ed4b-ab8b-4e21-85b7-2b02326c0d2d');\n",
              "        const dataTable =\n",
              "          await google.colab.kernel.invokeFunction('convertToInteractive',\n",
              "                                                    [key], {});\n",
              "        if (!dataTable) return;\n",
              "\n",
              "        const docLinkHtml = 'Like what you see? Visit the ' +\n",
              "          '<a target=\"_blank\" href=https://colab.research.google.com/notebooks/data_table.ipynb>data table notebook</a>'\n",
              "          + ' to learn more about interactive tables.';\n",
              "        element.innerHTML = '';\n",
              "        dataTable['output_type'] = 'display_data';\n",
              "        await google.colab.output.renderOutput(dataTable, element);\n",
              "        const docLink = document.createElement('div');\n",
              "        docLink.innerHTML = docLinkHtml;\n",
              "        element.appendChild(docLink);\n",
              "      }\n",
              "    </script>\n",
              "  </div>\n",
              "\n",
              "\n",
              "<div id=\"df-7a26011a-953d-45e0-bb73-8dc57440d2f5\">\n",
              "  <button class=\"colab-df-quickchart\" onclick=\"quickchart('df-7a26011a-953d-45e0-bb73-8dc57440d2f5')\"\n",
              "            title=\"Suggest charts\"\n",
              "            style=\"display:none;\">\n",
              "\n",
              "<svg xmlns=\"http://www.w3.org/2000/svg\" height=\"24px\"viewBox=\"0 0 24 24\"\n",
              "     width=\"24px\">\n",
              "    <g>\n",
              "        <path d=\"M19 3H5c-1.1 0-2 .9-2 2v14c0 1.1.9 2 2 2h14c1.1 0 2-.9 2-2V5c0-1.1-.9-2-2-2zM9 17H7v-7h2v7zm4 0h-2V7h2v10zm4 0h-2v-4h2v4z\"/>\n",
              "    </g>\n",
              "</svg>\n",
              "  </button>\n",
              "\n",
              "<style>\n",
              "  .colab-df-quickchart {\n",
              "      --bg-color: #E8F0FE;\n",
              "      --fill-color: #1967D2;\n",
              "      --hover-bg-color: #E2EBFA;\n",
              "      --hover-fill-color: #174EA6;\n",
              "      --disabled-fill-color: #AAA;\n",
              "      --disabled-bg-color: #DDD;\n",
              "  }\n",
              "\n",
              "  [theme=dark] .colab-df-quickchart {\n",
              "      --bg-color: #3B4455;\n",
              "      --fill-color: #D2E3FC;\n",
              "      --hover-bg-color: #434B5C;\n",
              "      --hover-fill-color: #FFFFFF;\n",
              "      --disabled-bg-color: #3B4455;\n",
              "      --disabled-fill-color: #666;\n",
              "  }\n",
              "\n",
              "  .colab-df-quickchart {\n",
              "    background-color: var(--bg-color);\n",
              "    border: none;\n",
              "    border-radius: 50%;\n",
              "    cursor: pointer;\n",
              "    display: none;\n",
              "    fill: var(--fill-color);\n",
              "    height: 32px;\n",
              "    padding: 0;\n",
              "    width: 32px;\n",
              "  }\n",
              "\n",
              "  .colab-df-quickchart:hover {\n",
              "    background-color: var(--hover-bg-color);\n",
              "    box-shadow: 0 1px 2px rgba(60, 64, 67, 0.3), 0 1px 3px 1px rgba(60, 64, 67, 0.15);\n",
              "    fill: var(--button-hover-fill-color);\n",
              "  }\n",
              "\n",
              "  .colab-df-quickchart-complete:disabled,\n",
              "  .colab-df-quickchart-complete:disabled:hover {\n",
              "    background-color: var(--disabled-bg-color);\n",
              "    fill: var(--disabled-fill-color);\n",
              "    box-shadow: none;\n",
              "  }\n",
              "\n",
              "  .colab-df-spinner {\n",
              "    border: 2px solid var(--fill-color);\n",
              "    border-color: transparent;\n",
              "    border-bottom-color: var(--fill-color);\n",
              "    animation:\n",
              "      spin 1s steps(1) infinite;\n",
              "  }\n",
              "\n",
              "  @keyframes spin {\n",
              "    0% {\n",
              "      border-color: transparent;\n",
              "      border-bottom-color: var(--fill-color);\n",
              "      border-left-color: var(--fill-color);\n",
              "    }\n",
              "    20% {\n",
              "      border-color: transparent;\n",
              "      border-left-color: var(--fill-color);\n",
              "      border-top-color: var(--fill-color);\n",
              "    }\n",
              "    30% {\n",
              "      border-color: transparent;\n",
              "      border-left-color: var(--fill-color);\n",
              "      border-top-color: var(--fill-color);\n",
              "      border-right-color: var(--fill-color);\n",
              "    }\n",
              "    40% {\n",
              "      border-color: transparent;\n",
              "      border-right-color: var(--fill-color);\n",
              "      border-top-color: var(--fill-color);\n",
              "    }\n",
              "    60% {\n",
              "      border-color: transparent;\n",
              "      border-right-color: var(--fill-color);\n",
              "    }\n",
              "    80% {\n",
              "      border-color: transparent;\n",
              "      border-right-color: var(--fill-color);\n",
              "      border-bottom-color: var(--fill-color);\n",
              "    }\n",
              "    90% {\n",
              "      border-color: transparent;\n",
              "      border-bottom-color: var(--fill-color);\n",
              "    }\n",
              "  }\n",
              "</style>\n",
              "\n",
              "  <script>\n",
              "    async function quickchart(key) {\n",
              "      const quickchartButtonEl =\n",
              "        document.querySelector('#' + key + ' button');\n",
              "      quickchartButtonEl.disabled = true;  // To prevent multiple clicks.\n",
              "      quickchartButtonEl.classList.add('colab-df-spinner');\n",
              "      try {\n",
              "        const charts = await google.colab.kernel.invokeFunction(\n",
              "            'suggestCharts', [key], {});\n",
              "      } catch (error) {\n",
              "        console.error('Error during call to suggestCharts:', error);\n",
              "      }\n",
              "      quickchartButtonEl.classList.remove('colab-df-spinner');\n",
              "      quickchartButtonEl.classList.add('colab-df-quickchart-complete');\n",
              "    }\n",
              "    (() => {\n",
              "      let quickchartButtonEl =\n",
              "        document.querySelector('#df-7a26011a-953d-45e0-bb73-8dc57440d2f5 button');\n",
              "      quickchartButtonEl.style.display =\n",
              "        google.colab.kernel.accessAllowed ? 'block' : 'none';\n",
              "    })();\n",
              "  </script>\n",
              "</div>\n",
              "\n",
              "    </div>\n",
              "  </div>\n"
            ],
            "application/vnd.google.colaboratory.intrinsic+json": {
              "type": "dataframe",
              "summary": "{\n  \"name\": \"car\",\n  \"rows\": 8,\n  \"fields\": [\n    {\n      \"column\": \"ID\",\n      \"properties\": {\n        \"dtype\": \"number\",\n        \"std\": 5830937.6150217205,\n        \"min\": 17048.0,\n        \"max\": 12852464.0,\n        \"num_unique_values\": 8,\n        \"samples\": [\n          12790266.456123885,\n          12802071.5,\n          17048.0\n        ],\n        \"semantic_type\": \"\",\n        \"description\": \"\"\n      }\n    },\n    {\n      \"column\": \"Price\",\n      \"properties\": {\n        \"dtype\": \"number\",\n        \"std\": 344384.07153224625,\n        \"min\": 1000.0,\n        \"max\": 999000.0,\n        \"num_unique_values\": 8,\n        \"samples\": [\n          36777.778038479584,\n          29990.0,\n          17048.0\n        ],\n        \"semantic_type\": \"\",\n        \"description\": \"\"\n      }\n    },\n    {\n      \"column\": \"Year\",\n      \"properties\": {\n        \"dtype\": \"number\",\n        \"std\": 5462.660768051542,\n        \"min\": 4.721591455882922,\n        \"max\": 17048.0,\n        \"num_unique_values\": 8,\n        \"samples\": [\n          2015.4812881276396,\n          2016.0,\n          17048.0\n        ],\n        \"semantic_type\": \"\",\n        \"description\": \"\"\n      }\n    },\n    {\n      \"column\": \"Kilometers\",\n      \"properties\": {\n        \"dtype\": \"number\",\n        \"std\": 931460.0445153968,\n        \"min\": 1.0,\n        \"max\": 2700000.0,\n        \"num_unique_values\": 8,\n        \"samples\": [\n          103231.40168934772,\n          88454.0,\n          17048.0\n        ],\n        \"semantic_type\": \"\",\n        \"description\": \"\"\n      }\n    },\n    {\n      \"column\": \"CC\",\n      \"properties\": {\n        \"dtype\": \"number\",\n        \"std\": 5461.328006307436,\n        \"min\": 875.0,\n        \"max\": 17048.0,\n        \"num_unique_values\": 8,\n        \"samples\": [\n          2491.8303026748004,\n          2354.0,\n          17048.0\n        ],\n        \"semantic_type\": \"\",\n        \"description\": \"\"\n      }\n    },\n    {\n      \"column\": \"Seating Capacity\",\n      \"properties\": {\n        \"dtype\": \"number\",\n        \"std\": 6025.498654851034,\n        \"min\": 1.1217909002088884,\n        \"max\": 17048.0,\n        \"num_unique_values\": 6,\n        \"samples\": [\n          17048.0,\n          5.115849366494603,\n          14.0\n        ],\n        \"semantic_type\": \"\",\n        \"description\": \"\"\n      }\n    }\n  ]\n}"
            }
          },
          "metadata": {},
          "execution_count": 16
        }
      ]
    },
    {
      "cell_type": "code",
      "source": [
        "car[car.Price==1000]"
      ],
      "metadata": {
        "colab": {
          "base_uri": "https://localhost:8080/",
          "height": 150
        },
        "id": "okng_ntHviym",
        "outputId": "b18b13e2-90fd-404d-94a0-0580449c10bd"
      },
      "execution_count": null,
      "outputs": [
        {
          "output_type": "execute_result",
          "data": {
            "text/plain": [
              "            ID                     Name  Price   Brand  Model Variant Series  \\\n",
              "7849  12796115  2000 Holden Astra CD TS   1000  Holden  Astra      CD     TS   \n",
              "\n",
              "      Year  Kilometers       Type Gearbox             Fuel Status    CC Color  \\\n",
              "7849  2000      243252  Hatchback  Manual  Unleaded Petrol   Used  1796  Blue   \n",
              "\n",
              "      Seating Capacity  \n",
              "7849                 5  "
            ],
            "text/html": [
              "\n",
              "  <div id=\"df-b1a7332b-c937-41fb-b443-d7ef1cfbe724\" class=\"colab-df-container\">\n",
              "    <div>\n",
              "<style scoped>\n",
              "    .dataframe tbody tr th:only-of-type {\n",
              "        vertical-align: middle;\n",
              "    }\n",
              "\n",
              "    .dataframe tbody tr th {\n",
              "        vertical-align: top;\n",
              "    }\n",
              "\n",
              "    .dataframe thead th {\n",
              "        text-align: right;\n",
              "    }\n",
              "</style>\n",
              "<table border=\"1\" class=\"dataframe\">\n",
              "  <thead>\n",
              "    <tr style=\"text-align: right;\">\n",
              "      <th></th>\n",
              "      <th>ID</th>\n",
              "      <th>Name</th>\n",
              "      <th>Price</th>\n",
              "      <th>Brand</th>\n",
              "      <th>Model</th>\n",
              "      <th>Variant</th>\n",
              "      <th>Series</th>\n",
              "      <th>Year</th>\n",
              "      <th>Kilometers</th>\n",
              "      <th>Type</th>\n",
              "      <th>Gearbox</th>\n",
              "      <th>Fuel</th>\n",
              "      <th>Status</th>\n",
              "      <th>CC</th>\n",
              "      <th>Color</th>\n",
              "      <th>Seating Capacity</th>\n",
              "    </tr>\n",
              "  </thead>\n",
              "  <tbody>\n",
              "    <tr>\n",
              "      <th>7849</th>\n",
              "      <td>12796115</td>\n",
              "      <td>2000 Holden Astra CD TS</td>\n",
              "      <td>1000</td>\n",
              "      <td>Holden</td>\n",
              "      <td>Astra</td>\n",
              "      <td>CD</td>\n",
              "      <td>TS</td>\n",
              "      <td>2000</td>\n",
              "      <td>243252</td>\n",
              "      <td>Hatchback</td>\n",
              "      <td>Manual</td>\n",
              "      <td>Unleaded Petrol</td>\n",
              "      <td>Used</td>\n",
              "      <td>1796</td>\n",
              "      <td>Blue</td>\n",
              "      <td>5</td>\n",
              "    </tr>\n",
              "  </tbody>\n",
              "</table>\n",
              "</div>\n",
              "    <div class=\"colab-df-buttons\">\n",
              "\n",
              "  <div class=\"colab-df-container\">\n",
              "    <button class=\"colab-df-convert\" onclick=\"convertToInteractive('df-b1a7332b-c937-41fb-b443-d7ef1cfbe724')\"\n",
              "            title=\"Convert this dataframe to an interactive table.\"\n",
              "            style=\"display:none;\">\n",
              "\n",
              "  <svg xmlns=\"http://www.w3.org/2000/svg\" height=\"24px\" viewBox=\"0 -960 960 960\">\n",
              "    <path d=\"M120-120v-720h720v720H120Zm60-500h600v-160H180v160Zm220 220h160v-160H400v160Zm0 220h160v-160H400v160ZM180-400h160v-160H180v160Zm440 0h160v-160H620v160ZM180-180h160v-160H180v160Zm440 0h160v-160H620v160Z\"/>\n",
              "  </svg>\n",
              "    </button>\n",
              "\n",
              "  <style>\n",
              "    .colab-df-container {\n",
              "      display:flex;\n",
              "      gap: 12px;\n",
              "    }\n",
              "\n",
              "    .colab-df-convert {\n",
              "      background-color: #E8F0FE;\n",
              "      border: none;\n",
              "      border-radius: 50%;\n",
              "      cursor: pointer;\n",
              "      display: none;\n",
              "      fill: #1967D2;\n",
              "      height: 32px;\n",
              "      padding: 0 0 0 0;\n",
              "      width: 32px;\n",
              "    }\n",
              "\n",
              "    .colab-df-convert:hover {\n",
              "      background-color: #E2EBFA;\n",
              "      box-shadow: 0px 1px 2px rgba(60, 64, 67, 0.3), 0px 1px 3px 1px rgba(60, 64, 67, 0.15);\n",
              "      fill: #174EA6;\n",
              "    }\n",
              "\n",
              "    .colab-df-buttons div {\n",
              "      margin-bottom: 4px;\n",
              "    }\n",
              "\n",
              "    [theme=dark] .colab-df-convert {\n",
              "      background-color: #3B4455;\n",
              "      fill: #D2E3FC;\n",
              "    }\n",
              "\n",
              "    [theme=dark] .colab-df-convert:hover {\n",
              "      background-color: #434B5C;\n",
              "      box-shadow: 0px 1px 3px 1px rgba(0, 0, 0, 0.15);\n",
              "      filter: drop-shadow(0px 1px 2px rgba(0, 0, 0, 0.3));\n",
              "      fill: #FFFFFF;\n",
              "    }\n",
              "  </style>\n",
              "\n",
              "    <script>\n",
              "      const buttonEl =\n",
              "        document.querySelector('#df-b1a7332b-c937-41fb-b443-d7ef1cfbe724 button.colab-df-convert');\n",
              "      buttonEl.style.display =\n",
              "        google.colab.kernel.accessAllowed ? 'block' : 'none';\n",
              "\n",
              "      async function convertToInteractive(key) {\n",
              "        const element = document.querySelector('#df-b1a7332b-c937-41fb-b443-d7ef1cfbe724');\n",
              "        const dataTable =\n",
              "          await google.colab.kernel.invokeFunction('convertToInteractive',\n",
              "                                                    [key], {});\n",
              "        if (!dataTable) return;\n",
              "\n",
              "        const docLinkHtml = 'Like what you see? Visit the ' +\n",
              "          '<a target=\"_blank\" href=https://colab.research.google.com/notebooks/data_table.ipynb>data table notebook</a>'\n",
              "          + ' to learn more about interactive tables.';\n",
              "        element.innerHTML = '';\n",
              "        dataTable['output_type'] = 'display_data';\n",
              "        await google.colab.output.renderOutput(dataTable, element);\n",
              "        const docLink = document.createElement('div');\n",
              "        docLink.innerHTML = docLinkHtml;\n",
              "        element.appendChild(docLink);\n",
              "      }\n",
              "    </script>\n",
              "  </div>\n",
              "\n",
              "\n",
              "    </div>\n",
              "  </div>\n"
            ],
            "application/vnd.google.colaboratory.intrinsic+json": {
              "type": "dataframe",
              "summary": "{\n  \"name\": \"car[car\",\n  \"rows\": 1,\n  \"fields\": [\n    {\n      \"column\": \"ID\",\n      \"properties\": {\n        \"dtype\": \"number\",\n        \"std\": null,\n        \"min\": 12796115,\n        \"max\": 12796115,\n        \"num_unique_values\": 1,\n        \"samples\": [\n          12796115\n        ],\n        \"semantic_type\": \"\",\n        \"description\": \"\"\n      }\n    },\n    {\n      \"column\": \"Name\",\n      \"properties\": {\n        \"dtype\": \"string\",\n        \"num_unique_values\": 1,\n        \"samples\": [\n          \"2000 Holden Astra CD TS\"\n        ],\n        \"semantic_type\": \"\",\n        \"description\": \"\"\n      }\n    },\n    {\n      \"column\": \"Price\",\n      \"properties\": {\n        \"dtype\": \"number\",\n        \"std\": null,\n        \"min\": 1000,\n        \"max\": 1000,\n        \"num_unique_values\": 1,\n        \"samples\": [\n          1000\n        ],\n        \"semantic_type\": \"\",\n        \"description\": \"\"\n      }\n    },\n    {\n      \"column\": \"Brand\",\n      \"properties\": {\n        \"dtype\": \"string\",\n        \"num_unique_values\": 1,\n        \"samples\": [\n          \"Holden\"\n        ],\n        \"semantic_type\": \"\",\n        \"description\": \"\"\n      }\n    },\n    {\n      \"column\": \"Model\",\n      \"properties\": {\n        \"dtype\": \"string\",\n        \"num_unique_values\": 1,\n        \"samples\": [\n          \"Astra\"\n        ],\n        \"semantic_type\": \"\",\n        \"description\": \"\"\n      }\n    },\n    {\n      \"column\": \"Variant\",\n      \"properties\": {\n        \"dtype\": \"string\",\n        \"num_unique_values\": 1,\n        \"samples\": [\n          \"CD\"\n        ],\n        \"semantic_type\": \"\",\n        \"description\": \"\"\n      }\n    },\n    {\n      \"column\": \"Series\",\n      \"properties\": {\n        \"dtype\": \"string\",\n        \"num_unique_values\": 1,\n        \"samples\": [\n          \"TS\"\n        ],\n        \"semantic_type\": \"\",\n        \"description\": \"\"\n      }\n    },\n    {\n      \"column\": \"Year\",\n      \"properties\": {\n        \"dtype\": \"number\",\n        \"std\": null,\n        \"min\": 2000,\n        \"max\": 2000,\n        \"num_unique_values\": 1,\n        \"samples\": [\n          2000\n        ],\n        \"semantic_type\": \"\",\n        \"description\": \"\"\n      }\n    },\n    {\n      \"column\": \"Kilometers\",\n      \"properties\": {\n        \"dtype\": \"number\",\n        \"std\": null,\n        \"min\": 243252,\n        \"max\": 243252,\n        \"num_unique_values\": 1,\n        \"samples\": [\n          243252\n        ],\n        \"semantic_type\": \"\",\n        \"description\": \"\"\n      }\n    },\n    {\n      \"column\": \"Type\",\n      \"properties\": {\n        \"dtype\": \"string\",\n        \"num_unique_values\": 1,\n        \"samples\": [\n          \"Hatchback\"\n        ],\n        \"semantic_type\": \"\",\n        \"description\": \"\"\n      }\n    },\n    {\n      \"column\": \"Gearbox\",\n      \"properties\": {\n        \"dtype\": \"string\",\n        \"num_unique_values\": 1,\n        \"samples\": [\n          \"Manual\"\n        ],\n        \"semantic_type\": \"\",\n        \"description\": \"\"\n      }\n    },\n    {\n      \"column\": \"Fuel\",\n      \"properties\": {\n        \"dtype\": \"string\",\n        \"num_unique_values\": 1,\n        \"samples\": [\n          \"Unleaded Petrol\"\n        ],\n        \"semantic_type\": \"\",\n        \"description\": \"\"\n      }\n    },\n    {\n      \"column\": \"Status\",\n      \"properties\": {\n        \"dtype\": \"string\",\n        \"num_unique_values\": 1,\n        \"samples\": [\n          \" Used\"\n        ],\n        \"semantic_type\": \"\",\n        \"description\": \"\"\n      }\n    },\n    {\n      \"column\": \"CC\",\n      \"properties\": {\n        \"dtype\": \"number\",\n        \"std\": null,\n        \"min\": 1796,\n        \"max\": 1796,\n        \"num_unique_values\": 1,\n        \"samples\": [\n          1796\n        ],\n        \"semantic_type\": \"\",\n        \"description\": \"\"\n      }\n    },\n    {\n      \"column\": \"Color\",\n      \"properties\": {\n        \"dtype\": \"string\",\n        \"num_unique_values\": 1,\n        \"samples\": [\n          \"Blue\"\n        ],\n        \"semantic_type\": \"\",\n        \"description\": \"\"\n      }\n    },\n    {\n      \"column\": \"Seating Capacity\",\n      \"properties\": {\n        \"dtype\": \"number\",\n        \"std\": null,\n        \"min\": 5,\n        \"max\": 5,\n        \"num_unique_values\": 1,\n        \"samples\": [\n          5\n        ],\n        \"semantic_type\": \"\",\n        \"description\": \"\"\n      }\n    }\n  ]\n}"
            }
          },
          "metadata": {},
          "execution_count": 17
        }
      ]
    },
    {
      "cell_type": "markdown",
      "source": [
        "## **Exploratory Analysis and Visualization**\n",
        "\n",
        "**Exploratory Analysis and Visualization** refers to the process of examining data sets to summarize their main characteristics, often using visual methods like graphs, charts, and plots. The goal is to explore and understand the data, identify patterns, detect anomalies, and generate insights without making formal statistical inferences.\n",
        "\n",
        "Key components include:\n",
        "1. **Exploratory Data Analysis (EDA):** It involves techniques like summary statistics, distributions, correlations, and outlier detection to understand the data structure.\n",
        "2. **Visualization:** Graphical representations such as histograms, bar charts, scatter plots, and heat maps are used to make the data easier to interpret and communicate insights effectively.\n"
      ],
      "metadata": {
        "id": "eLd7TJrwuRD2"
      }
    },
    {
      "cell_type": "markdown",
      "source": [
        "Lets import the other libraries which is helpfull for the getting visualisation"
      ],
      "metadata": {
        "id": "KNuXFulqvh9p"
      }
    },
    {
      "cell_type": "code",
      "source": [
        "import matplotlib.pyplot as plt\n",
        "import seaborn as sns\n",
        "import plotly.express as px"
      ],
      "metadata": {
        "id": "B8-mU8Jkvxpc"
      },
      "execution_count": null,
      "outputs": []
    },
    {
      "cell_type": "markdown",
      "source": [
        "## Price"
      ],
      "metadata": {
        "id": "-fBSVK04v4J-"
      }
    },
    {
      "cell_type": "code",
      "source": [
        "car.Price.describe()"
      ],
      "metadata": {
        "colab": {
          "base_uri": "https://localhost:8080/",
          "height": 335
        },
        "id": "sKouxFRZwLIQ",
        "outputId": "2a30f7f8-becf-4522-ae30-1fb3718c0e7d"
      },
      "execution_count": null,
      "outputs": [
        {
          "output_type": "execute_result",
          "data": {
            "text/plain": [
              "count     17048.000000\n",
              "mean      36777.778038\n",
              "std       30305.015328\n",
              "min        1000.000000\n",
              "25%       18800.000000\n",
              "50%       29990.000000\n",
              "75%       45990.000000\n",
              "max      999000.000000\n",
              "Name: Price, dtype: float64"
            ],
            "text/html": [
              "<div>\n",
              "<style scoped>\n",
              "    .dataframe tbody tr th:only-of-type {\n",
              "        vertical-align: middle;\n",
              "    }\n",
              "\n",
              "    .dataframe tbody tr th {\n",
              "        vertical-align: top;\n",
              "    }\n",
              "\n",
              "    .dataframe thead th {\n",
              "        text-align: right;\n",
              "    }\n",
              "</style>\n",
              "<table border=\"1\" class=\"dataframe\">\n",
              "  <thead>\n",
              "    <tr style=\"text-align: right;\">\n",
              "      <th></th>\n",
              "      <th>Price</th>\n",
              "    </tr>\n",
              "  </thead>\n",
              "  <tbody>\n",
              "    <tr>\n",
              "      <th>count</th>\n",
              "      <td>17048.000000</td>\n",
              "    </tr>\n",
              "    <tr>\n",
              "      <th>mean</th>\n",
              "      <td>36777.778038</td>\n",
              "    </tr>\n",
              "    <tr>\n",
              "      <th>std</th>\n",
              "      <td>30305.015328</td>\n",
              "    </tr>\n",
              "    <tr>\n",
              "      <th>min</th>\n",
              "      <td>1000.000000</td>\n",
              "    </tr>\n",
              "    <tr>\n",
              "      <th>25%</th>\n",
              "      <td>18800.000000</td>\n",
              "    </tr>\n",
              "    <tr>\n",
              "      <th>50%</th>\n",
              "      <td>29990.000000</td>\n",
              "    </tr>\n",
              "    <tr>\n",
              "      <th>75%</th>\n",
              "      <td>45990.000000</td>\n",
              "    </tr>\n",
              "    <tr>\n",
              "      <th>max</th>\n",
              "      <td>999000.000000</td>\n",
              "    </tr>\n",
              "  </tbody>\n",
              "</table>\n",
              "</div><br><label><b>dtype:</b> float64</label>"
            ]
          },
          "metadata": {},
          "execution_count": 19
        }
      ]
    },
    {
      "cell_type": "code",
      "source": [
        "plt.figure(figsize=(10, 6))\n",
        "sns.histplot(car['Price'], kde=True, bins=30)\n",
        "plt.title('Price Distribution')\n",
        "plt.show()"
      ],
      "metadata": {
        "colab": {
          "base_uri": "https://localhost:8080/",
          "height": 564
        },
        "id": "4Lzv7Xsp0uXx",
        "outputId": "06dd2fec-1bd7-41a2-f566-e9e256db586a"
      },
      "execution_count": null,
      "outputs": [
        {
          "output_type": "display_data",
          "data": {
            "text/plain": [
              "<Figure size 1000x600 with 1 Axes>"
            ],
            "image/png": "[encoded data removed]"
          },
          "metadata": {}
        }
      ]
    },
    {
      "cell_type": "markdown",
      "source": [
        "The code creates a visualization of price data using a histogram and KDE (Kernel Density Estimate) curve. The histogram displays the frequency of different price values, showing how often each price occurs, while the KDE curve provides a smooth estimate of the overall price distribution.\n",
        "This helps to identify the central tendency, spread, and potential outliers in the prices. You can observe whether the price distribution is normal, skewed, or multimodal, offering insights into patterns or trends in the price data.\n",
        "\n",
        "\n",
        "\n",
        "\n",
        "\n",
        "\n"
      ],
      "metadata": {
        "id": "lyC49DWxxjJt"
      }
    },
    {
      "cell_type": "markdown",
      "source": [
        "# Brand Column"
      ],
      "metadata": {
        "id": "r11uovtnyV9Y"
      }
    },
    {
      "cell_type": "code",
      "source": [
        "car.Brand.value_counts()"
      ],
      "metadata": {
        "id": "lBE830Vq15Q1",
        "colab": {
          "base_uri": "https://localhost:8080/",
          "height": 1000
        },
        "outputId": "764679f5-5318-47f7-ab44-1a53e2cc3876"
      },
      "execution_count": null,
      "outputs": [
        {
          "output_type": "execute_result",
          "data": {
            "text/plain": [
              "Brand\n",
              "Toyota             2768\n",
              "Holden             1505\n",
              "Ford               1490\n",
              "Mazda              1167\n",
              "Hyundai            1087\n",
              "Mitsubishi         1074\n",
              "Volkswagen         1019\n",
              "Nissan             1008\n",
              "Kia                 744\n",
              "Subaru              655\n",
              "Mercedes-Benz       625\n",
              "Audi                518\n",
              "BMW                 480\n",
              "Honda               413\n",
              "Jeep                379\n",
              "Land Rover          273\n",
              "Isuzu               267\n",
              "Lexus               180\n",
              "Volvo               161\n",
              "Skoda               160\n",
              "Suzuki              160\n",
              "Renault             158\n",
              "LDV                 122\n",
              "MG                   97\n",
              "Porsche              91\n",
              "Mini                 66\n",
              "Peugeot              45\n",
              "Chrysler             42\n",
              "Jaguar               38\n",
              "HSV                  37\n",
              "GWM                  29\n",
              "Great Wall           27\n",
              "Ram                  23\n",
              "Fiat                 17\n",
              "Dodge                14\n",
              "Citroen              13\n",
              "Alfa Romeo           11\n",
              "Ssangyong            11\n",
              "Infiniti              9\n",
              "Maserati              8\n",
              "Chevrolet             7\n",
              "Bentley               7\n",
              "Haval                 7\n",
              "Abarth                5\n",
              "Cupra                 5\n",
              "Foton                 4\n",
              "Opel                  4\n",
              "Lamborghini           3\n",
              "Aston Martin          2\n",
              "FPV                   2\n",
              "Saab                  2\n",
              "Chery                 2\n",
              "Genesis               1\n",
              "Mitsubishi Fuso       1\n",
              "Hino                  1\n",
              "Iveco                 1\n",
              "Mahindra              1\n",
              "Smart                 1\n",
              "Proton                1\n",
              "Name: count, dtype: int64"
            ],
            "text/html": [
              "<div>\n",
              "<style scoped>\n",
              "    .dataframe tbody tr th:only-of-type {\n",
              "        vertical-align: middle;\n",
              "    }\n",
              "\n",
              "    .dataframe tbody tr th {\n",
              "        vertical-align: top;\n",
              "    }\n",
              "\n",
              "    .dataframe thead th {\n",
              "        text-align: right;\n",
              "    }\n",
              "</style>\n",
              "<table border=\"1\" class=\"dataframe\">\n",
              "  <thead>\n",
              "    <tr style=\"text-align: right;\">\n",
              "      <th></th>\n",
              "      <th>count</th>\n",
              "    </tr>\n",
              "    <tr>\n",
              "      <th>Brand</th>\n",
              "      <th></th>\n",
              "    </tr>\n",
              "  </thead>\n",
              "  <tbody>\n",
              "    <tr>\n",
              "      <th>Toyota</th>\n",
              "      <td>2768</td>\n",
              "    </tr>\n",
              "    <tr>\n",
              "      <th>Holden</th>\n",
              "      <td>1505</td>\n",
              "    </tr>\n",
              "    <tr>\n",
              "      <th>Ford</th>\n",
              "      <td>1490</td>\n",
              "    </tr>\n",
              "    <tr>\n",
              "      <th>Mazda</th>\n",
              "      <td>1167</td>\n",
              "    </tr>\n",
              "    <tr>\n",
              "      <th>Hyundai</th>\n",
              "      <td>1087</td>\n",
              "    </tr>\n",
              "    <tr>\n",
              "      <th>Mitsubishi</th>\n",
              "      <td>1074</td>\n",
              "    </tr>\n",
              "    <tr>\n",
              "      <th>Volkswagen</th>\n",
              "      <td>1019</td>\n",
              "    </tr>\n",
              "    <tr>\n",
              "      <th>Nissan</th>\n",
              "      <td>1008</td>\n",
              "    </tr>\n",
              "    <tr>\n",
              "      <th>Kia</th>\n",
              "      <td>744</td>\n",
              "    </tr>\n",
              "    <tr>\n",
              "      <th>Subaru</th>\n",
              "      <td>655</td>\n",
              "    </tr>\n",
              "    <tr>\n",
              "      <th>Mercedes-Benz</th>\n",
              "      <td>625</td>\n",
              "    </tr>\n",
              "    <tr>\n",
              "      <th>Audi</th>\n",
              "      <td>518</td>\n",
              "    </tr>\n",
              "    <tr>\n",
              "      <th>BMW</th>\n",
              "      <td>480</td>\n",
              "    </tr>\n",
              "    <tr>\n",
              "      <th>Honda</th>\n",
              "      <td>413</td>\n",
              "    </tr>\n",
              "    <tr>\n",
              "      <th>Jeep</th>\n",
              "      <td>379</td>\n",
              "    </tr>\n",
              "    <tr>\n",
              "      <th>Land Rover</th>\n",
              "      <td>273</td>\n",
              "    </tr>\n",
              "    <tr>\n",
              "      <th>Isuzu</th>\n",
              "      <td>267</td>\n",
              "    </tr>\n",
              "    <tr>\n",
              "      <th>Lexus</th>\n",
              "      <td>180</td>\n",
              "    </tr>\n",
              "    <tr>\n",
              "      <th>Volvo</th>\n",
              "      <td>161</td>\n",
              "    </tr>\n",
              "    <tr>\n",
              "      <th>Skoda</th>\n",
              "      <td>160</td>\n",
              "    </tr>\n",
              "    <tr>\n",
              "      <th>Suzuki</th>\n",
              "      <td>160</td>\n",
              "    </tr>\n",
              "    <tr>\n",
              "      <th>Renault</th>\n",
              "      <td>158</td>\n",
              "    </tr>\n",
              "    <tr>\n",
              "      <th>LDV</th>\n",
              "      <td>122</td>\n",
              "    </tr>\n",
              "    <tr>\n",
              "      <th>MG</th>\n",
              "      <td>97</td>\n",
              "    </tr>\n",
              "    <tr>\n",
              "      <th>Porsche</th>\n",
              "      <td>91</td>\n",
              "    </tr>\n",
              "    <tr>\n",
              "      <th>Mini</th>\n",
              "      <td>66</td>\n",
              "    </tr>\n",
              "    <tr>\n",
              "      <th>Peugeot</th>\n",
              "      <td>45</td>\n",
              "    </tr>\n",
              "    <tr>\n",
              "      <th>Chrysler</th>\n",
              "      <td>42</td>\n",
              "    </tr>\n",
              "    <tr>\n",
              "      <th>Jaguar</th>\n",
              "      <td>38</td>\n",
              "    </tr>\n",
              "    <tr>\n",
              "      <th>HSV</th>\n",
              "      <td>37</td>\n",
              "    </tr>\n",
              "    <tr>\n",
              "      <th>GWM</th>\n",
              "      <td>29</td>\n",
              "    </tr>\n",
              "    <tr>\n",
              "      <th>Great Wall</th>\n",
              "      <td>27</td>\n",
              "    </tr>\n",
              "    <tr>\n",
              "      <th>Ram</th>\n",
              "      <td>23</td>\n",
              "    </tr>\n",
              "    <tr>\n",
              "      <th>Fiat</th>\n",
              "      <td>17</td>\n",
              "    </tr>\n",
              "    <tr>\n",
              "      <th>Dodge</th>\n",
              "      <td>14</td>\n",
              "    </tr>\n",
              "    <tr>\n",
              "      <th>Citroen</th>\n",
              "      <td>13</td>\n",
              "    </tr>\n",
              "    <tr>\n",
              "      <th>Alfa Romeo</th>\n",
              "      <td>11</td>\n",
              "    </tr>\n",
              "    <tr>\n",
              "      <th>Ssangyong</th>\n",
              "      <td>11</td>\n",
              "    </tr>\n",
              "    <tr>\n",
              "      <th>Infiniti</th>\n",
              "      <td>9</td>\n",
              "    </tr>\n",
              "    <tr>\n",
              "      <th>Maserati</th>\n",
              "      <td>8</td>\n",
              "    </tr>\n",
              "    <tr>\n",
              "      <th>Chevrolet</th>\n",
              "      <td>7</td>\n",
              "    </tr>\n",
              "    <tr>\n",
              "      <th>Bentley</th>\n",
              "      <td>7</td>\n",
              "    </tr>\n",
              "    <tr>\n",
              "      <th>Haval</th>\n",
              "      <td>7</td>\n",
              "    </tr>\n",
              "    <tr>\n",
              "      <th>Abarth</th>\n",
              "      <td>5</td>\n",
              "    </tr>\n",
              "    <tr>\n",
              "      <th>Cupra</th>\n",
              "      <td>5</td>\n",
              "    </tr>\n",
              "    <tr>\n",
              "      <th>Foton</th>\n",
              "      <td>4</td>\n",
              "    </tr>\n",
              "    <tr>\n",
              "      <th>Opel</th>\n",
              "      <td>4</td>\n",
              "    </tr>\n",
              "    <tr>\n",
              "      <th>Lamborghini</th>\n",
              "      <td>3</td>\n",
              "    </tr>\n",
              "    <tr>\n",
              "      <th>Aston Martin</th>\n",
              "      <td>2</td>\n",
              "    </tr>\n",
              "    <tr>\n",
              "      <th>FPV</th>\n",
              "      <td>2</td>\n",
              "    </tr>\n",
              "    <tr>\n",
              "      <th>Saab</th>\n",
              "      <td>2</td>\n",
              "    </tr>\n",
              "    <tr>\n",
              "      <th>Chery</th>\n",
              "      <td>2</td>\n",
              "    </tr>\n",
              "    <tr>\n",
              "      <th>Genesis</th>\n",
              "      <td>1</td>\n",
              "    </tr>\n",
              "    <tr>\n",
              "      <th>Mitsubishi Fuso</th>\n",
              "      <td>1</td>\n",
              "    </tr>\n",
              "    <tr>\n",
              "      <th>Hino</th>\n",
              "      <td>1</td>\n",
              "    </tr>\n",
              "    <tr>\n",
              "      <th>Iveco</th>\n",
              "      <td>1</td>\n",
              "    </tr>\n",
              "    <tr>\n",
              "      <th>Mahindra</th>\n",
              "      <td>1</td>\n",
              "    </tr>\n",
              "    <tr>\n",
              "      <th>Smart</th>\n",
              "      <td>1</td>\n",
              "    </tr>\n",
              "    <tr>\n",
              "      <th>Proton</th>\n",
              "      <td>1</td>\n",
              "    </tr>\n",
              "  </tbody>\n",
              "</table>\n",
              "</div><br><label><b>dtype:</b> int64</label>"
            ]
          },
          "metadata": {},
          "execution_count": 21
        }
      ]
    },
    {
      "cell_type": "code",
      "source": [
        "car.Brand.nunique()"
      ],
      "metadata": {
        "colab": {
          "base_uri": "https://localhost:8080/"
        },
        "id": "il7UUGvd1plB",
        "outputId": "8ec3f2c4-f76f-4834-eb9e-bfe337d2816f"
      },
      "execution_count": null,
      "outputs": [
        {
          "output_type": "execute_result",
          "data": {
            "text/plain": [
              "59"
            ]
          },
          "metadata": {},
          "execution_count": 22
        }
      ]
    },
    {
      "cell_type": "code",
      "source": [
        "plt.figure(figsize=(12, 6))\n",
        "sns.countplot(data=car, x='Brand', order=car['Brand'].value_counts().index)\n",
        "plt.title('Brand Popularity')\n",
        "plt.xticks(rotation=90)\n",
        "plt.show()"
      ],
      "metadata": {
        "colab": {
          "base_uri": "https://localhost:8080/",
          "height": 656
        },
        "id": "_urmTSt8yinR",
        "outputId": "65a68c40-5489-43de-de07-88f4a01849e4"
      },
      "execution_count": null,
      "outputs": [
        {
          "output_type": "display_data",
          "data": {
            "text/plain": [
              "<Figure size 1200x600 with 1 Axes>"
            ],
            "image/png": "[encoded data removed]"
          },
          "metadata": {}
        }
      ]
    },
    {
      "cell_type": "markdown",
      "source": [
        "By seeing the plot we can say that out of 59 car brands the toyota brands cars are present in more number and in the second spot holden is there and in the third position Ford is there"
      ],
      "metadata": {
        "id": "2J6vViWT1x35"
      }
    },
    {
      "cell_type": "code",
      "source": [
        "plt.figure(figsize=(20, 7))\n",
        "sns.countplot(data=car, x='Fuel')\n",
        "plt.title('Fuel Type Distribution')\n",
        "plt.show()"
      ],
      "metadata": {
        "colab": {
          "base_uri": "https://localhost:8080/",
          "height": 458
        },
        "id": "dpLzkW-Fyu6I",
        "outputId": "ca24b8cf-0012-4881-e0d5-8b611698c1f7"
      },
      "execution_count": null,
      "outputs": [
        {
          "output_type": "display_data",
          "data": {
            "text/plain": [
              "<Figure size 2000x700 with 1 Axes>"
            ],
            "image/png": "[encoded data removed]"
          },
          "metadata": {}
        }
      ]
    },
    {
      "cell_type": "markdown",
      "source": [
        "#Year Column"
      ],
      "metadata": {
        "id": "HHuYR61_213L"
      }
    },
    {
      "cell_type": "code",
      "source": [
        "car.Year.describe()"
      ],
      "metadata": {
        "colab": {
          "base_uri": "https://localhost:8080/",
          "height": 335
        },
        "id": "mn_RQBNB21Hm",
        "outputId": "e367b122-0862-4751-9727-e12929fa544c"
      },
      "execution_count": null,
      "outputs": [
        {
          "output_type": "execute_result",
          "data": {
            "text/plain": [
              "count    17048.000000\n",
              "mean      2015.481288\n",
              "std          4.721591\n",
              "min       1989.000000\n",
              "25%       2013.000000\n",
              "50%       2016.000000\n",
              "75%       2019.000000\n",
              "max       2022.000000\n",
              "Name: Year, dtype: float64"
            ],
            "text/html": [
              "<div>\n",
              "<style scoped>\n",
              "    .dataframe tbody tr th:only-of-type {\n",
              "        vertical-align: middle;\n",
              "    }\n",
              "\n",
              "    .dataframe tbody tr th {\n",
              "        vertical-align: top;\n",
              "    }\n",
              "\n",
              "    .dataframe thead th {\n",
              "        text-align: right;\n",
              "    }\n",
              "</style>\n",
              "<table border=\"1\" class=\"dataframe\">\n",
              "  <thead>\n",
              "    <tr style=\"text-align: right;\">\n",
              "      <th></th>\n",
              "      <th>Year</th>\n",
              "    </tr>\n",
              "  </thead>\n",
              "  <tbody>\n",
              "    <tr>\n",
              "      <th>count</th>\n",
              "      <td>17048.000000</td>\n",
              "    </tr>\n",
              "    <tr>\n",
              "      <th>mean</th>\n",
              "      <td>2015.481288</td>\n",
              "    </tr>\n",
              "    <tr>\n",
              "      <th>std</th>\n",
              "      <td>4.721591</td>\n",
              "    </tr>\n",
              "    <tr>\n",
              "      <th>min</th>\n",
              "      <td>1989.000000</td>\n",
              "    </tr>\n",
              "    <tr>\n",
              "      <th>25%</th>\n",
              "      <td>2013.000000</td>\n",
              "    </tr>\n",
              "    <tr>\n",
              "      <th>50%</th>\n",
              "      <td>2016.000000</td>\n",
              "    </tr>\n",
              "    <tr>\n",
              "      <th>75%</th>\n",
              "      <td>2019.000000</td>\n",
              "    </tr>\n",
              "    <tr>\n",
              "      <th>max</th>\n",
              "      <td>2022.000000</td>\n",
              "    </tr>\n",
              "  </tbody>\n",
              "</table>\n",
              "</div><br><label><b>dtype:</b> float64</label>"
            ]
          },
          "metadata": {},
          "execution_count": 25
        }
      ]
    },
    {
      "cell_type": "code",
      "source": [
        "car.Year.nunique()"
      ],
      "metadata": {
        "colab": {
          "base_uri": "https://localhost:8080/"
        },
        "id": "vi3IX8dV0W25",
        "outputId": "c562ac55-1f01-456c-a08a-a8591e0d6641"
      },
      "execution_count": null,
      "outputs": [
        {
          "output_type": "execute_result",
          "data": {
            "text/plain": [
              "34"
            ]
          },
          "metadata": {},
          "execution_count": 26
        }
      ]
    },
    {
      "cell_type": "code",
      "source": [
        "sns.histplot(x=car['Year'],bins=20)\n",
        "plt.title(\"Year Distribution Table\")\n",
        "plt.xlabel(\"Year\")\n",
        "plt.ylabel('Year Count')\n",
        "plt.show()"
      ],
      "metadata": {
        "colab": {
          "base_uri": "https://localhost:8080/",
          "height": 472
        },
        "id": "3kKpJ7rQ4BG4",
        "outputId": "7e0a5718-191c-4631-c187-1e03bd0e1a86"
      },
      "execution_count": null,
      "outputs": [
        {
          "output_type": "display_data",
          "data": {
            "text/plain": [
              "<Figure size 640x480 with 1 Axes>"
            ],
            "image/png": "[encoded data removed]"
          },
          "metadata": {}
        }
      ]
    },
    {
      "cell_type": "markdown",
      "source": [
        " Australian car market data, where most cars are manufactured in 2015, and the average manufacturing year ranges between 2015 to 2019\n",
        "\n",
        " Since the most common cars in the Australian market were made between 2015 and 2019, the used car market is filled with relatively new vehicles.\n",
        "Consumers looking for second-hand vehicles may find that cars from these years are in good condition, offer newer features, and are more fuel-efficient than older models.\n",
        "The resale value of cars from this range could be higher due to their relatively new age and updated features."
      ],
      "metadata": {
        "id": "y-XePZu04qI_"
      }
    },
    {
      "cell_type": "markdown",
      "source": [
        "# Kilometers Column"
      ],
      "metadata": {
        "id": "_AJBL3NI48Zz"
      }
    },
    {
      "cell_type": "code",
      "source": [
        "car.Kilometers.describe()"
      ],
      "metadata": {
        "colab": {
          "base_uri": "https://localhost:8080/",
          "height": 335
        },
        "id": "p3Iax5Iv4Kuw",
        "outputId": "87ad1822-3a9b-48f2-89ca-92dc03f1f8e3"
      },
      "execution_count": null,
      "outputs": [
        {
          "output_type": "execute_result",
          "data": {
            "text/plain": [
              "count    1.704800e+04\n",
              "mean     1.032314e+05\n",
              "std      8.041313e+04\n",
              "min      1.000000e+00\n",
              "25%      4.450225e+04\n",
              "50%      8.845400e+04\n",
              "75%      1.488735e+05\n",
              "max      2.700000e+06\n",
              "Name: Kilometers, dtype: float64"
            ],
            "text/html": [
              "<div>\n",
              "<style scoped>\n",
              "    .dataframe tbody tr th:only-of-type {\n",
              "        vertical-align: middle;\n",
              "    }\n",
              "\n",
              "    .dataframe tbody tr th {\n",
              "        vertical-align: top;\n",
              "    }\n",
              "\n",
              "    .dataframe thead th {\n",
              "        text-align: right;\n",
              "    }\n",
              "</style>\n",
              "<table border=\"1\" class=\"dataframe\">\n",
              "  <thead>\n",
              "    <tr style=\"text-align: right;\">\n",
              "      <th></th>\n",
              "      <th>Kilometers</th>\n",
              "    </tr>\n",
              "  </thead>\n",
              "  <tbody>\n",
              "    <tr>\n",
              "      <th>count</th>\n",
              "      <td>1.704800e+04</td>\n",
              "    </tr>\n",
              "    <tr>\n",
              "      <th>mean</th>\n",
              "      <td>1.032314e+05</td>\n",
              "    </tr>\n",
              "    <tr>\n",
              "      <th>std</th>\n",
              "      <td>8.041313e+04</td>\n",
              "    </tr>\n",
              "    <tr>\n",
              "      <th>min</th>\n",
              "      <td>1.000000e+00</td>\n",
              "    </tr>\n",
              "    <tr>\n",
              "      <th>25%</th>\n",
              "      <td>4.450225e+04</td>\n",
              "    </tr>\n",
              "    <tr>\n",
              "      <th>50%</th>\n",
              "      <td>8.845400e+04</td>\n",
              "    </tr>\n",
              "    <tr>\n",
              "      <th>75%</th>\n",
              "      <td>1.488735e+05</td>\n",
              "    </tr>\n",
              "    <tr>\n",
              "      <th>max</th>\n",
              "      <td>2.700000e+06</td>\n",
              "    </tr>\n",
              "  </tbody>\n",
              "</table>\n",
              "</div><br><label><b>dtype:</b> float64</label>"
            ]
          },
          "metadata": {},
          "execution_count": 28
        }
      ]
    },
    {
      "cell_type": "code",
      "source": [
        "sns.histplot(x=car['Kilometers'],kde=True)\n",
        "plt.title(\"Kilometers Distribution\")\n",
        "plt.xlabel(\"Kilometers\")\n",
        "plt.ylabel('Count')\n",
        "plt.show()"
      ],
      "metadata": {
        "colab": {
          "base_uri": "https://localhost:8080/",
          "height": 472
        },
        "id": "JJP2l5_U5CDv",
        "outputId": "8a4b7a12-43df-4553-cfac-f347d92585ca"
      },
      "execution_count": null,
      "outputs": [
        {
          "output_type": "display_data",
          "data": {
            "text/plain": [
              "<Figure size 640x480 with 1 Axes>"
            ],
            "image/png": "[encoded data removed]"
          },
          "metadata": {}
        }
      ]
    },
    {
      "cell_type": "markdown",
      "source": [
        "This data provides a statistical summary of the kilometers driven (likely referring to the odometer reading) for cars in the Australian car market dataset.\n",
        "\n",
        "The average number of kilometers driven by the cars in the dataset is 103,231 km.\n",
        "The car with the lowest kilometers driven has just 1 km recorded. This likely represents a brand-new vehicle or a car that has been driven very minimally (perhaps just out of the dealership or during testing).\n",
        "The car with the highest kilometers driven has 2.7 million km on the odometer, an extreme outlier."
      ],
      "metadata": {
        "id": "q9elK-dX5vJj"
      }
    },
    {
      "cell_type": "markdown",
      "source": [
        "# Type Column"
      ],
      "metadata": {
        "id": "ZPV7bHdE6ifa"
      }
    },
    {
      "cell_type": "code",
      "source": [
        "car.Type.value_counts()"
      ],
      "metadata": {
        "colab": {
          "base_uri": "https://localhost:8080/",
          "height": 1000
        },
        "id": "rmENPsQf5KPT",
        "outputId": "78e78aa2-a879-48a3-cab1-e135afcc3371"
      },
      "execution_count": null,
      "outputs": [
        {
          "output_type": "execute_result",
          "data": {
            "text/plain": [
              "Type\n",
              "Wagon                    7768\n",
              "Hatchback                2424\n",
              "Sedan                    2325\n",
              "Dual Cab Utility          657\n",
              "Coupe                     471\n",
              "Double Cab Pick Up        425\n",
              "Cab Chassis               424\n",
              "Dual Cab Pick-up          423\n",
              "Van                       384\n",
              "Crew Cab Pickup           269\n",
              "Double Cab Utility        212\n",
              "Crew Cab Utility          207\n",
              "Utility                   178\n",
              "Sportswagon               143\n",
              "Double Cab Chassis         95\n",
              "Crew Cab Chassis           77\n",
              "Dual Cab Chassis           72\n",
              "Convertible                44\n",
              "Sportback                  43\n",
              "Liftback                   40\n",
              "Hardtop                    36\n",
              "Fastback                   36\n",
              "Cabriolet                  35\n",
              "Softtop                    35\n",
              "Super Cab Utility          23\n",
              "Space Cab Chassis          22\n",
              "Bus                        21\n",
              "Super Cab Chassis          19\n",
              "Saloon                     13\n",
              "X Cab Pickup               13\n",
              "Roadster                   13\n",
              "Freestyle Cab Chassis      11\n",
              "Space Cab Utility          10\n",
              "X Cab Cab Chassis           8\n",
              "King Cab Pickup             8\n",
              "Space Cab Pickup            7\n",
              "Troop Carrier               6\n",
              "Crew Van                    5\n",
              "X Cab Utility               5\n",
              "Club Cab Chassis            5\n",
              "Leaf Cab Chassis            4\n",
              "Coach                       4\n",
              "Estate                      4\n",
              "Club Cab Utility            3\n",
              "Club Cab Pickup             3\n",
              "Freestyle Utility           3\n",
              "Coil Cab Chassis            3\n",
              "Blind Van                   2\n",
              "Pickup                      2\n",
              "Super Cab Pickup            2\n",
              "Crew Cab Van                1\n",
              "King Cab Pick Up            1\n",
              "Panel Van                   1\n",
              "Cab Chassis Tray            1\n",
              "Softback                    1\n",
              "King Cab Utility            1\n",
              "Name: count, dtype: int64"
            ],
            "text/html": [
              "<div>\n",
              "<style scoped>\n",
              "    .dataframe tbody tr th:only-of-type {\n",
              "        vertical-align: middle;\n",
              "    }\n",
              "\n",
              "    .dataframe tbody tr th {\n",
              "        vertical-align: top;\n",
              "    }\n",
              "\n",
              "    .dataframe thead th {\n",
              "        text-align: right;\n",
              "    }\n",
              "</style>\n",
              "<table border=\"1\" class=\"dataframe\">\n",
              "  <thead>\n",
              "    <tr style=\"text-align: right;\">\n",
              "      <th></th>\n",
              "      <th>count</th>\n",
              "    </tr>\n",
              "    <tr>\n",
              "      <th>Type</th>\n",
              "      <th></th>\n",
              "    </tr>\n",
              "  </thead>\n",
              "  <tbody>\n",
              "    <tr>\n",
              "      <th>Wagon</th>\n",
              "      <td>7768</td>\n",
              "    </tr>\n",
              "    <tr>\n",
              "      <th>Hatchback</th>\n",
              "      <td>2424</td>\n",
              "    </tr>\n",
              "    <tr>\n",
              "      <th>Sedan</th>\n",
              "      <td>2325</td>\n",
              "    </tr>\n",
              "    <tr>\n",
              "      <th>Dual Cab Utility</th>\n",
              "      <td>657</td>\n",
              "    </tr>\n",
              "    <tr>\n",
              "      <th>Coupe</th>\n",
              "      <td>471</td>\n",
              "    </tr>\n",
              "    <tr>\n",
              "      <th>Double Cab Pick Up</th>\n",
              "      <td>425</td>\n",
              "    </tr>\n",
              "    <tr>\n",
              "      <th>Cab Chassis</th>\n",
              "      <td>424</td>\n",
              "    </tr>\n",
              "    <tr>\n",
              "      <th>Dual Cab Pick-up</th>\n",
              "      <td>423</td>\n",
              "    </tr>\n",
              "    <tr>\n",
              "      <th>Van</th>\n",
              "      <td>384</td>\n",
              "    </tr>\n",
              "    <tr>\n",
              "      <th>Crew Cab Pickup</th>\n",
              "      <td>269</td>\n",
              "    </tr>\n",
              "    <tr>\n",
              "      <th>Double Cab Utility</th>\n",
              "      <td>212</td>\n",
              "    </tr>\n",
              "    <tr>\n",
              "      <th>Crew Cab Utility</th>\n",
              "      <td>207</td>\n",
              "    </tr>\n",
              "    <tr>\n",
              "      <th>Utility</th>\n",
              "      <td>178</td>\n",
              "    </tr>\n",
              "    <tr>\n",
              "      <th>Sportswagon</th>\n",
              "      <td>143</td>\n",
              "    </tr>\n",
              "    <tr>\n",
              "      <th>Double Cab Chassis</th>\n",
              "      <td>95</td>\n",
              "    </tr>\n",
              "    <tr>\n",
              "      <th>Crew Cab Chassis</th>\n",
              "      <td>77</td>\n",
              "    </tr>\n",
              "    <tr>\n",
              "      <th>Dual Cab Chassis</th>\n",
              "      <td>72</td>\n",
              "    </tr>\n",
              "    <tr>\n",
              "      <th>Convertible</th>\n",
              "      <td>44</td>\n",
              "    </tr>\n",
              "    <tr>\n",
              "      <th>Sportback</th>\n",
              "      <td>43</td>\n",
              "    </tr>\n",
              "    <tr>\n",
              "      <th>Liftback</th>\n",
              "      <td>40</td>\n",
              "    </tr>\n",
              "    <tr>\n",
              "      <th>Hardtop</th>\n",
              "      <td>36</td>\n",
              "    </tr>\n",
              "    <tr>\n",
              "      <th>Fastback</th>\n",
              "      <td>36</td>\n",
              "    </tr>\n",
              "    <tr>\n",
              "      <th>Cabriolet</th>\n",
              "      <td>35</td>\n",
              "    </tr>\n",
              "    <tr>\n",
              "      <th>Softtop</th>\n",
              "      <td>35</td>\n",
              "    </tr>\n",
              "    <tr>\n",
              "      <th>Super Cab Utility</th>\n",
              "      <td>23</td>\n",
              "    </tr>\n",
              "    <tr>\n",
              "      <th>Space Cab Chassis</th>\n",
              "      <td>22</td>\n",
              "    </tr>\n",
              "    <tr>\n",
              "      <th>Bus</th>\n",
              "      <td>21</td>\n",
              "    </tr>\n",
              "    <tr>\n",
              "      <th>Super Cab Chassis</th>\n",
              "      <td>19</td>\n",
              "    </tr>\n",
              "    <tr>\n",
              "      <th>Saloon</th>\n",
              "      <td>13</td>\n",
              "    </tr>\n",
              "    <tr>\n",
              "      <th>X Cab Pickup</th>\n",
              "      <td>13</td>\n",
              "    </tr>\n",
              "    <tr>\n",
              "      <th>Roadster</th>\n",
              "      <td>13</td>\n",
              "    </tr>\n",
              "    <tr>\n",
              "      <th>Freestyle Cab Chassis</th>\n",
              "      <td>11</td>\n",
              "    </tr>\n",
              "    <tr>\n",
              "      <th>Space Cab Utility</th>\n",
              "      <td>10</td>\n",
              "    </tr>\n",
              "    <tr>\n",
              "      <th>X Cab Cab Chassis</th>\n",
              "      <td>8</td>\n",
              "    </tr>\n",
              "    <tr>\n",
              "      <th>King Cab Pickup</th>\n",
              "      <td>8</td>\n",
              "    </tr>\n",
              "    <tr>\n",
              "      <th>Space Cab Pickup</th>\n",
              "      <td>7</td>\n",
              "    </tr>\n",
              "    <tr>\n",
              "      <th>Troop Carrier</th>\n",
              "      <td>6</td>\n",
              "    </tr>\n",
              "    <tr>\n",
              "      <th>Crew Van</th>\n",
              "      <td>5</td>\n",
              "    </tr>\n",
              "    <tr>\n",
              "      <th>X Cab Utility</th>\n",
              "      <td>5</td>\n",
              "    </tr>\n",
              "    <tr>\n",
              "      <th>Club Cab Chassis</th>\n",
              "      <td>5</td>\n",
              "    </tr>\n",
              "    <tr>\n",
              "      <th>Leaf Cab Chassis</th>\n",
              "      <td>4</td>\n",
              "    </tr>\n",
              "    <tr>\n",
              "      <th>Coach</th>\n",
              "      <td>4</td>\n",
              "    </tr>\n",
              "    <tr>\n",
              "      <th>Estate</th>\n",
              "      <td>4</td>\n",
              "    </tr>\n",
              "    <tr>\n",
              "      <th>Club Cab Utility</th>\n",
              "      <td>3</td>\n",
              "    </tr>\n",
              "    <tr>\n",
              "      <th>Club Cab Pickup</th>\n",
              "      <td>3</td>\n",
              "    </tr>\n",
              "    <tr>\n",
              "      <th>Freestyle Utility</th>\n",
              "      <td>3</td>\n",
              "    </tr>\n",
              "    <tr>\n",
              "      <th>Coil Cab Chassis</th>\n",
              "      <td>3</td>\n",
              "    </tr>\n",
              "    <tr>\n",
              "      <th>Blind Van</th>\n",
              "      <td>2</td>\n",
              "    </tr>\n",
              "    <tr>\n",
              "      <th>Pickup</th>\n",
              "      <td>2</td>\n",
              "    </tr>\n",
              "    <tr>\n",
              "      <th>Super Cab Pickup</th>\n",
              "      <td>2</td>\n",
              "    </tr>\n",
              "    <tr>\n",
              "      <th>Crew Cab Van</th>\n",
              "      <td>1</td>\n",
              "    </tr>\n",
              "    <tr>\n",
              "      <th>King Cab Pick Up</th>\n",
              "      <td>1</td>\n",
              "    </tr>\n",
              "    <tr>\n",
              "      <th>Panel Van</th>\n",
              "      <td>1</td>\n",
              "    </tr>\n",
              "    <tr>\n",
              "      <th>Cab Chassis Tray</th>\n",
              "      <td>1</td>\n",
              "    </tr>\n",
              "    <tr>\n",
              "      <th>Softback</th>\n",
              "      <td>1</td>\n",
              "    </tr>\n",
              "    <tr>\n",
              "      <th>King Cab Utility</th>\n",
              "      <td>1</td>\n",
              "    </tr>\n",
              "  </tbody>\n",
              "</table>\n",
              "</div><br><label><b>dtype:</b> int64</label>"
            ]
          },
          "metadata": {},
          "execution_count": 30
        }
      ]
    },
    {
      "cell_type": "code",
      "source": [
        "car.Type.nunique()"
      ],
      "metadata": {
        "colab": {
          "base_uri": "https://localhost:8080/"
        },
        "id": "34_Nwpu48xlJ",
        "outputId": "d539f83f-775c-4183-97a5-8b9f15cc0ff0"
      },
      "execution_count": null,
      "outputs": [
        {
          "output_type": "execute_result",
          "data": {
            "text/plain": [
              "56"
            ]
          },
          "metadata": {},
          "execution_count": 31
        }
      ]
    },
    {
      "cell_type": "code",
      "source": [
        "plt.figure(figsize=(12, 6))\n",
        "sns.countplot(data=car, x='Type', order=car['Type'].value_counts().index)\n",
        "plt.xticks(rotation=90)\n",
        "plt.title(\"Type Table\")\n",
        "plt.xlabel(\"Type\")\n",
        "plt.ylabel('Type Count')\n",
        "plt.show()"
      ],
      "metadata": {
        "colab": {
          "base_uri": "https://localhost:8080/",
          "height": 701
        },
        "id": "g_67Orlt6pqF",
        "outputId": "1cd220b4-98c3-4e24-c612-323dcf5ed267"
      },
      "execution_count": null,
      "outputs": [
        {
          "output_type": "display_data",
          "data": {
            "text/plain": [
              "<Figure size 1200x600 with 1 Axes>"
            ],
            "image/png": "[encoded data removed]"
          },
          "metadata": {}
        }
      ]
    },
    {
      "cell_type": "markdown",
      "source": [
        "The dataset is dominated by Wagons, Hatchbacks, and Sedans, reflecting the preference for these body styles in the Australian market.\n",
        "The variety of vehicle types shows a diverse market catering to different needs, from family cars to commercial and niche luxury vehicles.\n",
        "The presence of many variations in utility and pickup vehicles highlights their significant role, likely driven by Australia’s rural and industrial needs.\n",
        "This distribution gives insights into consumer preferences, market demand for specific body styles, and possibly regional or usage-based trends."
      ],
      "metadata": {
        "id": "aU0QGgIh8rTZ"
      }
    },
    {
      "cell_type": "markdown",
      "source": [
        "# Gearbox Column"
      ],
      "metadata": {
        "id": "YdfbOwAWOnd0"
      }
    },
    {
      "cell_type": "code",
      "source": [
        "car.Gearbox.value_counts()"
      ],
      "metadata": {
        "colab": {
          "base_uri": "https://localhost:8080/",
          "height": 272
        },
        "id": "Jgh5b7TwNyB7",
        "outputId": "3b26c4ee-7bff-4438-e1af-9d07f30e8f10"
      },
      "execution_count": null,
      "outputs": [
        {
          "output_type": "execute_result",
          "data": {
            "text/plain": [
              "Gearbox\n",
              "Automatic    14578\n",
              "Manual        2446\n",
              "AWD             13\n",
              "Front            8\n",
              "Rear             3\n",
              "Name: count, dtype: int64"
            ],
            "text/html": [
              "<div>\n",
              "<style scoped>\n",
              "    .dataframe tbody tr th:only-of-type {\n",
              "        vertical-align: middle;\n",
              "    }\n",
              "\n",
              "    .dataframe tbody tr th {\n",
              "        vertical-align: top;\n",
              "    }\n",
              "\n",
              "    .dataframe thead th {\n",
              "        text-align: right;\n",
              "    }\n",
              "</style>\n",
              "<table border=\"1\" class=\"dataframe\">\n",
              "  <thead>\n",
              "    <tr style=\"text-align: right;\">\n",
              "      <th></th>\n",
              "      <th>count</th>\n",
              "    </tr>\n",
              "    <tr>\n",
              "      <th>Gearbox</th>\n",
              "      <th></th>\n",
              "    </tr>\n",
              "  </thead>\n",
              "  <tbody>\n",
              "    <tr>\n",
              "      <th>Automatic</th>\n",
              "      <td>14578</td>\n",
              "    </tr>\n",
              "    <tr>\n",
              "      <th>Manual</th>\n",
              "      <td>2446</td>\n",
              "    </tr>\n",
              "    <tr>\n",
              "      <th>AWD</th>\n",
              "      <td>13</td>\n",
              "    </tr>\n",
              "    <tr>\n",
              "      <th>Front</th>\n",
              "      <td>8</td>\n",
              "    </tr>\n",
              "    <tr>\n",
              "      <th>Rear</th>\n",
              "      <td>3</td>\n",
              "    </tr>\n",
              "  </tbody>\n",
              "</table>\n",
              "</div><br><label><b>dtype:</b> int64</label>"
            ]
          },
          "metadata": {},
          "execution_count": 33
        }
      ]
    },
    {
      "cell_type": "code",
      "source": [
        "sns.barplot(x=['Automatic','Manual','AWD','Front','Rear'],y=car.Gearbox.value_counts(),palette='viridis')\n",
        "plt.title(\"Gearbox Type\")\n",
        "plt.xlabel(\"Gearbox\")\n",
        "plt.show()"
      ],
      "metadata": {
        "colab": {
          "base_uri": "https://localhost:8080/",
          "height": 579
        },
        "id": "MqRPHiXuOuqf",
        "outputId": "2ce5a815-0c22-4721-9894-5625bc53c927"
      },
      "execution_count": null,
      "outputs": [
        {
          "output_type": "stream",
          "name": "stderr",
          "text": [
            "<ipython-input-36-283a9f2a352d>:1: FutureWarning: \n",
            "\n",
            "Passing `palette` without assigning `hue` is deprecated and will be removed in v0.14.0. Assign the `x` variable to `hue` and set `legend=False` for the same effect.\n",
            "\n",
            "  sns.barplot(x=['Automatic','Manual','AWD','Front','Rear'],y=car.Gearbox.value_counts(),palette='viridis')\n"
          ]
        },
        {
          "output_type": "display_data",
          "data": {
            "text/plain": [
              "<Figure size 640x480 with 1 Axes>"
            ],
            "image/png": "[encoded data removed]"
          },
          "metadata": {}
        }
      ]
    },
    {
      "cell_type": "markdown",
      "source": [
        "By observing the plot in australia automatic gearbox car preffered more\n",
        "Popularity of Automatic Cars: The high number of automatic cars indicates a trend towards convenience and ease of driving in the Australian market.\n",
        "Low Manual Car Numbers: The manual gear box type, while still present, is significantly lower, which may reflect a shift away from manual driving preferences.\n",
        "AWD, Front, and Rear Drive: These types could represent specialized vehicles with specific driving dynamics, like sports cars or off-road vehicles, and their low numbers might reflect niche markets."
      ],
      "metadata": {
        "id": "glGxsxPVQe7y"
      }
    },
    {
      "cell_type": "markdown",
      "source": [
        "# Fuel Column"
      ],
      "metadata": {
        "id": "AuAKtv6DQtx4"
      }
    },
    {
      "cell_type": "code",
      "source": [
        "count=car.Fuel.value_counts()\n",
        "count"
      ],
      "metadata": {
        "colab": {
          "base_uri": "https://localhost:8080/",
          "height": 335
        },
        "id": "70EBM4FBO2UC",
        "outputId": "e6bff175-e960-404d-8c09-0a586401aff2"
      },
      "execution_count": null,
      "outputs": [
        {
          "output_type": "execute_result",
          "data": {
            "text/plain": [
              "Fuel\n",
              "Unleaded Petrol              7016\n",
              "Diesel                       6087\n",
              "Premium Unleaded Petrol      3438\n",
              "Unleaded Petrol/Electric      255\n",
              "Premium Unleaded/Electric     194\n",
              "Liquid Petroleum Gas           40\n",
              "Diesel/Electric                18\n",
              "Name: count, dtype: int64"
            ],
            "text/html": [
              "<div>\n",
              "<style scoped>\n",
              "    .dataframe tbody tr th:only-of-type {\n",
              "        vertical-align: middle;\n",
              "    }\n",
              "\n",
              "    .dataframe tbody tr th {\n",
              "        vertical-align: top;\n",
              "    }\n",
              "\n",
              "    .dataframe thead th {\n",
              "        text-align: right;\n",
              "    }\n",
              "</style>\n",
              "<table border=\"1\" class=\"dataframe\">\n",
              "  <thead>\n",
              "    <tr style=\"text-align: right;\">\n",
              "      <th></th>\n",
              "      <th>count</th>\n",
              "    </tr>\n",
              "    <tr>\n",
              "      <th>Fuel</th>\n",
              "      <th></th>\n",
              "    </tr>\n",
              "  </thead>\n",
              "  <tbody>\n",
              "    <tr>\n",
              "      <th>Unleaded Petrol</th>\n",
              "      <td>7016</td>\n",
              "    </tr>\n",
              "    <tr>\n",
              "      <th>Diesel</th>\n",
              "      <td>6087</td>\n",
              "    </tr>\n",
              "    <tr>\n",
              "      <th>Premium Unleaded Petrol</th>\n",
              "      <td>3438</td>\n",
              "    </tr>\n",
              "    <tr>\n",
              "      <th>Unleaded Petrol/Electric</th>\n",
              "      <td>255</td>\n",
              "    </tr>\n",
              "    <tr>\n",
              "      <th>Premium Unleaded/Electric</th>\n",
              "      <td>194</td>\n",
              "    </tr>\n",
              "    <tr>\n",
              "      <th>Liquid Petroleum Gas</th>\n",
              "      <td>40</td>\n",
              "    </tr>\n",
              "    <tr>\n",
              "      <th>Diesel/Electric</th>\n",
              "      <td>18</td>\n",
              "    </tr>\n",
              "  </tbody>\n",
              "</table>\n",
              "</div><br><label><b>dtype:</b> int64</label>"
            ]
          },
          "metadata": {},
          "execution_count": 39
        }
      ]
    },
    {
      "cell_type": "code",
      "source": [
        "sns.barplot(x=['Unleaded Petrol','Diesel','Premium Unleaded Petrol','Unleaded Petrol/Electric','Premium Unleaded/Electric','Liquid Petroleum Gas','Diesel/Electric'],y=count)\n",
        "plt.xticks(rotation=90)\n",
        "plt.title('Fuel Type Table')\n",
        "plt.xlabel('Fuel type')\n",
        "plt.show()"
      ],
      "metadata": {
        "colab": {
          "base_uri": "https://localhost:8080/",
          "height": 646
        },
        "id": "XpkHJyocQ01w",
        "outputId": "2223d92a-1150-46cf-9ff8-b616e9592ee4"
      },
      "execution_count": null,
      "outputs": [
        {
          "output_type": "display_data",
          "data": {
            "text/plain": [
              "<Figure size 640x480 with 1 Axes>"
            ],
            "image/png": "[encoded data removed]"
          },
          "metadata": {}
        }
      ]
    },
    {
      "cell_type": "markdown",
      "source": [
        " the \"Fuel\" column appears to represent the type of fuel used by different vehicles in the Australian car market. Each row corresponds to the number of vehicles that use a specific type of fuel. Here's a description of the fuel types:\n",
        "\n",
        "Unleaded Petrol (7016 vehicles)\n",
        "This is the most common type of fuel, used by a large number of vehicles. Unleaded petrol is widely available and generally cheaper than premium alternatives.\n",
        "\n",
        "Diesel (6087 vehicles)\n",
        "Diesel fuel is used by many vehicles, often preferred for its fuel efficiency and suitability for heavy-duty vehicles, such as trucks and SUVs.\n",
        "\n",
        "Premium Unleaded Petrol (3438 vehicles)\n",
        "Premium unleaded petrol has a higher octane rating than regular unleaded petrol, making it suitable for high-performance engines.\n",
        "\n",
        "Unleaded Petrol/Electric (255 vehicles)\n",
        "These vehicles are hybrids that use both unleaded petrol and electric power, offering better fuel efficiency and lower emissions compared to traditional petrol engines.\n",
        "\n",
        "Premium Unleaded/Electric (194 vehicles)\n",
        "Similar to the unleaded petrol/electric hybrids, these vehicles combine premium unleaded petrol with electric power, likely offering enhanced performance along with efficiency.\n",
        "\n",
        "Liquid Petroleum Gas (LPG) (40 vehicles)\n",
        "LPG is a less common fuel type in cars, but it is an alternative to petrol and diesel. Vehicles running on LPG produce lower emissions.\n",
        "\n",
        "Diesel/Electric (18 vehicles)\n",
        "These are hybrid vehicles that use both diesel and electric power, typically focusing on improving fuel efficiency, particularly in heavy-duty or long-distance driving contexts.\n",
        "\n",
        "This variety in fuel types suggests a diverse car market, including traditional fuel types, hybrid options, and alternative fuels such as LPG."
      ],
      "metadata": {
        "id": "7f3o2fvOTy7d"
      }
    },
    {
      "cell_type": "markdown",
      "source": [
        "# Color Column"
      ],
      "metadata": {
        "id": "eUrHO_s7T2mg"
      }
    },
    {
      "cell_type": "code",
      "source": [
        "count=car.Color.value_counts()\n",
        "count"
      ],
      "metadata": {
        "colab": {
          "base_uri": "https://localhost:8080/",
          "height": 490
        },
        "id": "WgL4fO7jRECC",
        "outputId": "49880f4c-93c9-4f80-caf2-ffcb3bd427ba"
      },
      "execution_count": null,
      "outputs": [
        {
          "output_type": "execute_result",
          "data": {
            "text/plain": [
              "Color\n",
              "White       6177\n",
              "Silver      2452\n",
              "Grey        2441\n",
              "Black       1970\n",
              "Blue        1577\n",
              "            ... \n",
              "Hornet         1\n",
              "selenite       1\n",
              "Daytona        1\n",
              "Amber          1\n",
              "Glazier        1\n",
              "Name: count, Length: 235, dtype: int64"
            ],
            "text/html": [
              "<div>\n",
              "<style scoped>\n",
              "    .dataframe tbody tr th:only-of-type {\n",
              "        vertical-align: middle;\n",
              "    }\n",
              "\n",
              "    .dataframe tbody tr th {\n",
              "        vertical-align: top;\n",
              "    }\n",
              "\n",
              "    .dataframe thead th {\n",
              "        text-align: right;\n",
              "    }\n",
              "</style>\n",
              "<table border=\"1\" class=\"dataframe\">\n",
              "  <thead>\n",
              "    <tr style=\"text-align: right;\">\n",
              "      <th></th>\n",
              "      <th>count</th>\n",
              "    </tr>\n",
              "    <tr>\n",
              "      <th>Color</th>\n",
              "      <th></th>\n",
              "    </tr>\n",
              "  </thead>\n",
              "  <tbody>\n",
              "    <tr>\n",
              "      <th>White</th>\n",
              "      <td>6177</td>\n",
              "    </tr>\n",
              "    <tr>\n",
              "      <th>Silver</th>\n",
              "      <td>2452</td>\n",
              "    </tr>\n",
              "    <tr>\n",
              "      <th>Grey</th>\n",
              "      <td>2441</td>\n",
              "    </tr>\n",
              "    <tr>\n",
              "      <th>Black</th>\n",
              "      <td>1970</td>\n",
              "    </tr>\n",
              "    <tr>\n",
              "      <th>Blue</th>\n",
              "      <td>1577</td>\n",
              "    </tr>\n",
              "    <tr>\n",
              "      <th>...</th>\n",
              "      <td>...</td>\n",
              "    </tr>\n",
              "    <tr>\n",
              "      <th>Hornet</th>\n",
              "      <td>1</td>\n",
              "    </tr>\n",
              "    <tr>\n",
              "      <th>selenite</th>\n",
              "      <td>1</td>\n",
              "    </tr>\n",
              "    <tr>\n",
              "      <th>Daytona</th>\n",
              "      <td>1</td>\n",
              "    </tr>\n",
              "    <tr>\n",
              "      <th>Amber</th>\n",
              "      <td>1</td>\n",
              "    </tr>\n",
              "    <tr>\n",
              "      <th>Glazier</th>\n",
              "      <td>1</td>\n",
              "    </tr>\n",
              "  </tbody>\n",
              "</table>\n",
              "<p>235 rows × 1 columns</p>\n",
              "</div><br><label><b>dtype:</b> int64</label>"
            ]
          },
          "metadata": {},
          "execution_count": 42
        }
      ]
    },
    {
      "cell_type": "markdown",
      "source": [
        "Most car colours are white followed by silver"
      ],
      "metadata": {
        "id": "DHMcCAC4UEcs"
      }
    },
    {
      "cell_type": "markdown",
      "source": [
        "# Seating Capacity"
      ],
      "metadata": {
        "id": "bZ2SVesQURp6"
      }
    },
    {
      "cell_type": "code",
      "source": [
        "count=car['Seating Capacity'].value_counts()\n",
        "count"
      ],
      "metadata": {
        "colab": {
          "base_uri": "https://localhost:8080/",
          "height": 429
        },
        "id": "fDF0F8tsT-3m",
        "outputId": "fea9303e-1242-4577-ac79-4b1f90c30ae1"
      },
      "execution_count": null,
      "outputs": [
        {
          "output_type": "execute_result",
          "data": {
            "text/plain": [
              "Seating Capacity\n",
              "5     12826\n",
              "7      2177\n",
              "2       744\n",
              "4       653\n",
              "3       305\n",
              "8       297\n",
              "6        20\n",
              "14       19\n",
              "9         4\n",
              "11        3\n",
              "Name: count, dtype: int64"
            ],
            "text/html": [
              "<div>\n",
              "<style scoped>\n",
              "    .dataframe tbody tr th:only-of-type {\n",
              "        vertical-align: middle;\n",
              "    }\n",
              "\n",
              "    .dataframe tbody tr th {\n",
              "        vertical-align: top;\n",
              "    }\n",
              "\n",
              "    .dataframe thead th {\n",
              "        text-align: right;\n",
              "    }\n",
              "</style>\n",
              "<table border=\"1\" class=\"dataframe\">\n",
              "  <thead>\n",
              "    <tr style=\"text-align: right;\">\n",
              "      <th></th>\n",
              "      <th>count</th>\n",
              "    </tr>\n",
              "    <tr>\n",
              "      <th>Seating Capacity</th>\n",
              "      <th></th>\n",
              "    </tr>\n",
              "  </thead>\n",
              "  <tbody>\n",
              "    <tr>\n",
              "      <th>5</th>\n",
              "      <td>12826</td>\n",
              "    </tr>\n",
              "    <tr>\n",
              "      <th>7</th>\n",
              "      <td>2177</td>\n",
              "    </tr>\n",
              "    <tr>\n",
              "      <th>2</th>\n",
              "      <td>744</td>\n",
              "    </tr>\n",
              "    <tr>\n",
              "      <th>4</th>\n",
              "      <td>653</td>\n",
              "    </tr>\n",
              "    <tr>\n",
              "      <th>3</th>\n",
              "      <td>305</td>\n",
              "    </tr>\n",
              "    <tr>\n",
              "      <th>8</th>\n",
              "      <td>297</td>\n",
              "    </tr>\n",
              "    <tr>\n",
              "      <th>6</th>\n",
              "      <td>20</td>\n",
              "    </tr>\n",
              "    <tr>\n",
              "      <th>14</th>\n",
              "      <td>19</td>\n",
              "    </tr>\n",
              "    <tr>\n",
              "      <th>9</th>\n",
              "      <td>4</td>\n",
              "    </tr>\n",
              "    <tr>\n",
              "      <th>11</th>\n",
              "      <td>3</td>\n",
              "    </tr>\n",
              "  </tbody>\n",
              "</table>\n",
              "</div><br><label><b>dtype:</b> int64</label>"
            ]
          },
          "metadata": {},
          "execution_count": 43
        }
      ]
    },
    {
      "cell_type": "code",
      "source": [
        "sns.barplot(x=['5','7','2','4','3','8','6','14','9','11'],y=count)\n",
        "plt.xticks(rotation=90)\n",
        "plt.title('Seating Capacity Table')\n",
        "plt.xlabel('Seating Capacity Type')\n",
        "plt.show()"
      ],
      "metadata": {
        "colab": {
          "base_uri": "https://localhost:8080/",
          "height": 475
        },
        "id": "j0LMQyO8UXKw",
        "outputId": "4e18605f-ef0e-4c83-dc8a-8c6555d7ba02"
      },
      "execution_count": null,
      "outputs": [
        {
          "output_type": "display_data",
          "data": {
            "text/plain": [
              "<Figure size 640x480 with 1 Axes>"
            ],
            "image/png": "[encoded data removed]"
          },
          "metadata": {}
        }
      ]
    },
    {
      "cell_type": "markdown",
      "source": [
        "By seeing the plot we can say 5 seater cars are more then 7 seaters cars are at the second place"
      ],
      "metadata": {
        "id": "PTLrwjrzUj6J"
      }
    },
    {
      "cell_type": "markdown",
      "source": [
        "# MultiVariate Analysis"
      ],
      "metadata": {
        "id": "2efnMd-rU8Lz"
      }
    },
    {
      "cell_type": "markdown",
      "source": [
        "**Price vs Year**"
      ],
      "metadata": {
        "id": "EGYUdADtVC20"
      }
    },
    {
      "cell_type": "code",
      "source": [
        "plt.figure(figsize=(10, 6))\n",
        "sns.scatterplot(data=car, x='Year', y='Price')\n",
        "plt.title('Price vs. Year')\n",
        "plt.show()"
      ],
      "metadata": {
        "colab": {
          "base_uri": "https://localhost:8080/",
          "height": 564
        },
        "id": "5gAqwndLUhTM",
        "outputId": "e1ff46a5-fc8b-4e71-b6db-feca8a932c3d"
      },
      "execution_count": null,
      "outputs": [
        {
          "output_type": "display_data",
          "data": {
            "text/plain": [
              "<Figure size 1000x600 with 1 Axes>"
            ],
            "image/png": "[encoded data removed]"
          },
          "metadata": {}
        }
      ]
    },
    {
      "cell_type": "markdown",
      "source": [
        "**Price vs Kilometer**"
      ],
      "metadata": {
        "id": "RdJvbcg6VgFY"
      }
    },
    {
      "cell_type": "code",
      "source": [
        "plt.figure(figsize=(10, 6))\n",
        "sns.scatterplot(data=car, x='Kilometers', y='Price')\n",
        "plt.title('Price vs. Kilometers')\n",
        "plt.show()"
      ],
      "metadata": {
        "colab": {
          "base_uri": "https://localhost:8080/",
          "height": 564
        },
        "id": "mpcxJl3BVPSh",
        "outputId": "d71d6acd-c17f-429b-bfc4-07e292a092b1"
      },
      "execution_count": null,
      "outputs": [
        {
          "output_type": "display_data",
          "data": {
            "text/plain": [
              "<Figure size 1000x600 with 1 Axes>"
            ],
            "image/png": "[encoded data removed]"
          },
          "metadata": {}
        }
      ]
    },
    {
      "cell_type": "markdown",
      "source": [
        "**Price vs Brand**"
      ],
      "metadata": {
        "id": "tkKi7oSjVxlZ"
      }
    },
    {
      "cell_type": "code",
      "source": [
        "plt.figure(figsize=(12, 6))\n",
        "sns.boxplot(data=car, x='Brand', y='Price')\n",
        "plt.title('Price by Brand')\n",
        "plt.xticks(rotation=90)\n",
        "plt.show()"
      ],
      "metadata": {
        "colab": {
          "base_uri": "https://localhost:8080/",
          "height": 656
        },
        "id": "mbRqTIT5Vqv8",
        "outputId": "86d38906-025c-4830-aaf0-ca0a72a346f6"
      },
      "execution_count": null,
      "outputs": [
        {
          "output_type": "display_data",
          "data": {
            "text/plain": [
              "<Figure size 1200x600 with 1 Axes>"
            ],
            "image/png": "[encoded data removed]"
          },
          "metadata": {}
        }
      ]
    },
    {
      "cell_type": "markdown",
      "source": [
        "**CC vs Price**"
      ],
      "metadata": {
        "id": "psljWLmJWCAl"
      }
    },
    {
      "cell_type": "code",
      "source": [
        "sns.scatterplot(car, x='CC', y='Price')\n",
        "plt.show()"
      ],
      "metadata": {
        "colab": {
          "base_uri": "https://localhost:8080/",
          "height": 465
        },
        "id": "F9hdRD4OV5ir",
        "outputId": "8a34d061-aa56-45e3-dbfa-008a85d28e43"
      },
      "execution_count": null,
      "outputs": [
        {
          "output_type": "display_data",
          "data": {
            "text/plain": [
              "<Figure size 640x480 with 1 Axes>"
            ],
            "image/png": "[encoded data removed]"
          },
          "metadata": {}
        }
      ]
    },
    {
      "cell_type": "code",
      "source": [
        "sns.heatmap(car.corr(numeric_only=True), annot=True, fmt='.1f', linewidths=1)\n",
        "plt.show()"
      ],
      "metadata": {
        "colab": {
          "base_uri": "https://localhost:8080/",
          "height": 540
        },
        "id": "NFQa_k3FWM0W",
        "outputId": "600121a1-6b4d-48ee-b33d-285e82256c88"
      },
      "execution_count": null,
      "outputs": [
        {
          "output_type": "display_data",
          "data": {
            "text/plain": [
              "<Figure size 640x480 with 2 Axes>"
            ],
            "image/png": "[encoded data removed]"
          },
          "metadata": {}
        }
      ]
    },
    {
      "cell_type": "code",
      "source": [],
      "metadata": {
        "id": "sMLqO-AnV_--"
      },
      "execution_count": null,
      "outputs": []
    }
  ]
}